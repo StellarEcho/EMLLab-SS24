{
 "cells": [
  {
   "cell_type": "code",
   "execution_count": 1,
   "id": "25a5759c-5478-495a-a312-fd6f57e680a9",
   "metadata": {},
   "outputs": [],
   "source": [
    "import torch\n",
    "\n",
    "# A subset of VOCDataLoader just for one class (person) (0)\n",
    "from utils.dataloader import VOCDataLoaderPerson\n",
    "\n",
    "loader = VOCDataLoaderPerson(train=True, batch_size=128, shuffle=True)\n",
    "loader_test = VOCDataLoaderPerson(train=False, batch_size=1)"
   ]
  },
  {
   "cell_type": "code",
   "execution_count": 2,
   "id": "58eb66c5-8fca-4a81-bedb-1a0f360cc11f",
   "metadata": {},
   "outputs": [
    {
     "name": "stdout",
     "output_type": "stream",
     "text": [
      "cuda\n"
     ]
    }
   ],
   "source": [
    "from tinyyolov2 import TinyYoloV2\n",
    "from utils.loss import YoloLoss\n",
    "import tqdm\n",
    "\n",
    "device = torch.device(\"cuda\" if torch.cuda.is_available() else \"cpu\")\n",
    "#device = torch.device(\"cpu\")\n",
    "print(device)\n",
    "# We define a tinyyolo network with only two possible classes\n",
    "net = TinyYoloV2(num_classes=1)\n",
    "sd = torch.load(\"voc_pretrained.pt\", map_location=device)\n",
    "\n",
    "#We load all parameters from the pretrained dict except for the last layer\n",
    "net.load_state_dict({k: v for k, v in sd.items() if not '9' in k}, strict=False)\n",
    "net.eval()\n",
    "\n",
    "net.to(device)\n",
    "\n",
    "# Definition of the loss\n",
    "criterion = YoloLoss(anchors=net.anchors)\n",
    "\n",
    "#We only train the last layer (conv9)\n",
    "for key, param in net.named_parameters():\n",
    "    if any(x in key for x in ['1', '2', '3', '4', '5', '6', '7']):\n",
    "        param.requires_grad = False\n",
    "\n",
    "optimizer = torch.optim.Adam(filter(lambda x: x.requires_grad, net.parameters()), lr=0.001, weight_decay=0.0005)"
   ]
  },
  {
   "cell_type": "code",
   "execution_count": null,
   "id": "516d5321-e4c8-4531-ab2e-d03472be9c0c",
   "metadata": {},
   "outputs": [],
   "source": [
    "import numpy as np\n",
    "\n",
    "from utils.ap import precision_recall_levels, ap, display_roc\n",
    "from utils.yolo import nms, filter_boxes\n",
    "\n",
    "NUM_TEST_SAMPLES = 200\n",
    "NUM_EPOCHS = 100\n",
    "test_AP = []\n",
    "avg_train_losses = []\n",
    "avg_test_losses = []\n",
    "early_stopping_counter = 0\n",
    "\n",
    "for epoch in range(NUM_EPOCHS):\n",
    "    print(f\"Epoch {epoch + 1}/{NUM_EPOCHS}\")\n",
    "    if epoch >= 0:\n",
    "        net.train()\n",
    "        net.to(device)\n",
    "        train_running_loss = 0.0\n",
    "        print(\"Training started------------\")\n",
    "        for idx, (input, target) in tqdm.tqdm(enumerate(loader), total=len(loader)):\n",
    "            input = input.to(device)\n",
    "            target = target.to(device)\n",
    "            optimizer.zero_grad()\n",
    "\n",
    "            #Yolo head is implemented in the loss for training, therefore yolo=False\n",
    "            output = net(input, yolo=False)\n",
    "            loss, _ = criterion(output, target)\n",
    "            train_running_loss += loss.item()\n",
    "            \n",
    "            loss.backward()\n",
    "            optimizer.step()\n",
    "\n",
    "    avg_train_losses.append(train_running_loss / (idx + 1))\n",
    "    \n",
    "    test_precision = []\n",
    "    test_recall = []\n",
    "    test_running_loss = 0.0\n",
    "    \n",
    "    net.eval()\n",
    "    print(\"Validation started---------\")\n",
    "    with torch.no_grad():\n",
    "        for idx, (input, target) in tqdm.tqdm(enumerate(loader_test), total=NUM_TEST_SAMPLES):\n",
    "            input = input.to(device)\n",
    "            target = target.to(device)\n",
    "            yolo_output = net(input, yolo=True)\n",
    "            \n",
    "            output = net(input, yolo=False)\n",
    "            test_loss, _ = criterion(output, target)\n",
    "            test_running_loss += test_loss.item()\n",
    "            \n",
    "            #The right threshold values can be adjusted for the target application\n",
    "            filtered_output = filter_boxes(yolo_output, 0.3)\n",
    "            nms_output = nms(filtered_output, 0.5)\n",
    "            \n",
    "            precision, recall = precision_recall_levels(target[0], nms_output[0])\n",
    "            test_precision.append(precision)\n",
    "            test_recall.append(recall)\n",
    "            \n",
    "            if idx == NUM_TEST_SAMPLES:\n",
    "                break\n",
    "    \n",
    "    avg_test_losses.append(test_running_loss / (idx + 1))\n",
    "    \n",
    "    print('average train losses', avg_train_losses[-1])\n",
    "    print('average test losses', avg_test_losses[-1])\n",
    "    \n",
    "    print('test precision', np.mean(test_precision))\n",
    "    print('test recall', np.mean(test_recall))\n",
    "    \n",
    "    #Calculation of average precision with collected samples\n",
    "    test_AP.append(ap(test_precision, test_recall))\n",
    "    print('average precision', test_AP)\n",
    "    \n",
    "    \n",
    "    #early stopping\n",
    "    if epoch > 0 and abs(avg_test_losses[epoch] - avg_test_losses[epoch-1]) < 0.002:\n",
    "        early_stopping_counter +=1\n",
    "        if early_stopping_counter >5:\n",
    "            print(\"*************early stopping*************\")\n",
    "            torch.save(net.state_dict(), f\"models/voc_finetuned_{epoch+1}_epochs_lr0001_decay0005.pt\")\n",
    "            break\n",
    "    else:\n",
    "       early_stopping_counter = 0 \n",
    "    \n",
    "    if (epoch + 1) % 5 == 0:\n",
    "        display_roc(test_precision, test_recall)\n",
    "        \n",
    "    if (epoch + 1) % 5 == 0:\n",
    "        torch.save(net.state_dict(), f\"models/voc_finetuned_{epoch+1}_epochs_lr0001_decay0005.pt\")\n",
    "    \n",
    "net.to(\"cpu\")\n",
    "state_dict = net.state_dict()\n",
    "torch.save(state_dict, 'models/voc_finetuned_100_epochs_lr0001_decay0005.pt')"
   ]
  },
  {
   "cell_type": "code",
   "execution_count": 20,
   "id": "ef738f79",
   "metadata": {},
   "outputs": [],
   "source": [
    "import torch\n",
    "# A subset of VOCDataLoader just for one class (person) (0)\n",
    "from utils.dataloader import VOCDataLoaderPerson\n",
    "loader = VOCDataLoaderPerson(train=True, batch_size=128, shuffle=True)\n",
    "loader_test = VOCDataLoaderPerson(train=False, batch_size=1)\n",
    "\n",
    "from tinyyolov2 import TinyYoloV2\n",
    "from utils.loss import YoloLoss\n",
    "import tqdm\n",
    "import numpy as np\n",
    "from utils.ap import precision_recall_levels, ap, display_roc\n",
    "from utils.yolo import nms, filter_boxes\n",
    "import matplotlib.pyplot as plt\n",
    "\n",
    "def validateCkptFile(model_with_state_dict, output_image_name):\n",
    "    NUM_TEST_SAMPLES = 200\n",
    "    test_AP = []\n",
    "    avg_test_losses = []\n",
    "    test_precision = []\n",
    "    test_recall = []\n",
    "    test_running_loss = 0.0\n",
    "\n",
    "    print(\"Validation started---------\")\n",
    "\n",
    "    with torch.no_grad():\n",
    "        for idx, (input, target) in tqdm.tqdm(enumerate(loader_test), total=NUM_TEST_SAMPLES):\n",
    "            input = input.to(device)\n",
    "            target = target.to(device)\n",
    "            yolo_output = model_with_state_dict(input, yolo=True)\n",
    "            \n",
    "            output = model_with_state_dict(input, yolo=False)\n",
    "            test_loss, _ = criterion(output, target)\n",
    "            test_running_loss += test_loss.item()\n",
    "            \n",
    "            #The right threshold values can be adjusted for the target application\n",
    "            filtered_output = filter_boxes(yolo_output, 0.3)\n",
    "            nms_output = nms(filtered_output, 0.5)\n",
    "            \n",
    "            precision, recall = precision_recall_levels(target[0], nms_output[0])\n",
    "            test_precision.append(precision)\n",
    "            test_recall.append(recall)\n",
    "            \n",
    "            if idx == NUM_TEST_SAMPLES:\n",
    "                break\n",
    "    \n",
    "    avg_test_losses.append(test_running_loss / (idx + 1))\n",
    "    \n",
    "    print('average train losses', avg_train_losses[-1])\n",
    "    print('average test losses', avg_test_losses[-1])\n",
    "    \n",
    "    print('test precision', np.mean(test_precision))\n",
    "    print('test recall', np.mean(test_recall))\n",
    "    \n",
    "    #Calculation of average precision with collected samples\n",
    "    test_AP.append(ap(test_precision, test_recall))\n",
    "    print('average precision', test_AP)\n",
    "\n",
    "    # display_roc(test_precision, test_recall)\n",
    "\n",
    "    recall = np.mean(np.array(test_recall), axis=0)\n",
    "    precision = np.mean(np.array(test_precision), axis=0)\n",
    "\n",
    "    plt.plot(recall, precision)\n",
    "    plt.xlim((0,1.1))\n",
    "    plt.ylim((0,1.1))\n",
    "    plt.xlabel('recall')\n",
    "    plt.ylabel('precision')\n",
    "    plt.title('precision over recall')\n",
    "\n",
    "    # plt.savefig(f\"plot/{output_image_name}.png\")\n",
    "    \n",
    "    plt.show()\n",
    "\n"
   ]
  },
  {
   "cell_type": "code",
   "execution_count": 21,
   "id": "38a2cdd6",
   "metadata": {},
   "outputs": [
    {
     "name": "stdout",
     "output_type": "stream",
     "text": [
      "Validation started---------\n"
     ]
    },
    {
     "name": "stderr",
     "output_type": "stream",
     "text": [
      "  1%|          | 2/200 [00:00<00:14, 13.49it/s]"
     ]
    },
    {
     "name": "stdout",
     "output_type": "stream",
     "text": [
      "torch.Size([1, 30, 10, 10])\n",
      "torch.Size([1, 30, 10, 10])\n",
      "torch.Size([1, 30, 10, 10])\n"
     ]
    },
    {
     "name": "stderr",
     "output_type": "stream",
     "text": [
      "  3%|▎         | 6/200 [00:00<00:11, 16.81it/s]"
     ]
    },
    {
     "name": "stdout",
     "output_type": "stream",
     "text": [
      "torch.Size([1, 30, 10, 10])\n",
      "torch.Size([1, 30, 10, 10])\n",
      "torch.Size([1, 30, 10, 10])\n",
      "torch.Size([1, 30, 10, 10])\n",
      "torch.Size([1, 30, 10, 10])\n",
      "torch.Size([1, 30, 10, 10])\n"
     ]
    },
    {
     "name": "stderr",
     "output_type": "stream",
     "text": [
      "  5%|▌         | 10/200 [00:00<00:11, 16.60it/s]"
     ]
    },
    {
     "name": "stdout",
     "output_type": "stream",
     "text": [
      "torch.Size([1, 30, 10, 10])\n",
      "torch.Size([1, 30, 10, 10])\n",
      "torch.Size([1, 30, 10, 10])\n"
     ]
    },
    {
     "name": "stderr",
     "output_type": "stream",
     "text": [
      "  7%|▋         | 14/200 [00:00<00:09, 19.99it/s]"
     ]
    },
    {
     "name": "stdout",
     "output_type": "stream",
     "text": [
      "torch.Size([1, 30, 10, 10])\n",
      "torch.Size([1, 30, 10, 10])\n",
      "torch.Size([1, 30, 10, 10])\n",
      "torch.Size([1, 30, 10, 10])\n",
      "torch.Size([1, 30, 10, 10])\n",
      "torch.Size([1, 30, 10, 10])\n"
     ]
    },
    {
     "name": "stderr",
     "output_type": "stream",
     "text": [
      " 11%|█         | 22/200 [00:01<00:07, 22.30it/s]"
     ]
    },
    {
     "name": "stdout",
     "output_type": "stream",
     "text": [
      "torch.Size([1, 30, 10, 10])\n",
      "torch.Size([1, 30, 10, 10])\n",
      "torch.Size([1, 30, 10, 10])\n",
      "torch.Size([1, 30, 10, 10])\n",
      "torch.Size([1, 30, 10, 10])\n",
      "torch.Size([1, 30, 10, 10])\n"
     ]
    },
    {
     "name": "stderr",
     "output_type": "stream",
     "text": [
      " 14%|█▍        | 28/200 [00:01<00:07, 23.15it/s]"
     ]
    },
    {
     "name": "stdout",
     "output_type": "stream",
     "text": [
      "torch.Size([1, 30, 10, 10])\n",
      "torch.Size([1, 30, 10, 10])\n",
      "torch.Size([1, 30, 10, 10])\n",
      "torch.Size([1, 30, 10, 10])\n"
     ]
    },
    {
     "name": "stderr",
     "output_type": "stream",
     "text": [
      " 16%|█▌        | 31/200 [00:01<00:07, 23.05it/s]"
     ]
    },
    {
     "name": "stdout",
     "output_type": "stream",
     "text": [
      "torch.Size([1, 30, 10, 10])\n",
      "torch.Size([1, 30, 10, 10])\n",
      "torch.Size([1, 30, 10, 10])\n",
      "torch.Size([1, 30, 10, 10])\n"
     ]
    },
    {
     "name": "stderr",
     "output_type": "stream",
     "text": [
      " 17%|█▋        | 34/200 [00:01<00:07, 21.14it/s]"
     ]
    },
    {
     "name": "stdout",
     "output_type": "stream",
     "text": [
      "torch.Size([1, 30, 10, 10])\n",
      "torch.Size([1, 30, 10, 10])\n",
      "torch.Size([1, 30, 10, 10])\n"
     ]
    },
    {
     "name": "stderr",
     "output_type": "stream",
     "text": [
      " 20%|█▉        | 39/200 [00:02<00:13, 12.20it/s]"
     ]
    },
    {
     "name": "stdout",
     "output_type": "stream",
     "text": [
      "torch.Size([1, 30, 10, 10])\n",
      "torch.Size([1, 30, 10, 10])\n",
      "torch.Size([1, 30, 10, 10])\n",
      "torch.Size([1, 30, 10, 10])\n"
     ]
    },
    {
     "name": "stderr",
     "output_type": "stream",
     "text": [
      " 20%|██        | 41/200 [00:02<00:12, 13.16it/s]"
     ]
    },
    {
     "name": "stdout",
     "output_type": "stream",
     "text": [
      "torch.Size([1, 30, 10, 10])\n",
      "torch.Size([1, 30, 10, 10])\n",
      "torch.Size([1, 30, 10, 10])\n",
      "torch.Size([1, 30, 10, 10])\n"
     ]
    },
    {
     "name": "stderr",
     "output_type": "stream",
     "text": [
      " 24%|██▍       | 48/200 [00:02<00:07, 19.48it/s]"
     ]
    },
    {
     "name": "stdout",
     "output_type": "stream",
     "text": [
      "torch.Size([1, 30, 10, 10])\n",
      "torch.Size([1, 30, 10, 10])\n",
      "torch.Size([1, 30, 10, 10])\n",
      "torch.Size([1, 30, 10, 10])\n",
      "torch.Size([1, 30, 10, 10])\n",
      "torch.Size([1, 30, 10, 10])\n",
      "torch.Size([1, 30, 10, 10])\n"
     ]
    },
    {
     "name": "stderr",
     "output_type": "stream",
     "text": [
      " 28%|██▊       | 55/200 [00:03<00:08, 16.88it/s]"
     ]
    },
    {
     "name": "stdout",
     "output_type": "stream",
     "text": [
      "torch.Size([1, 30, 10, 10])\n",
      "torch.Size([1, 30, 10, 10])\n",
      "torch.Size([1, 30, 10, 10])\n",
      "torch.Size([1, 30, 10, 10])\n",
      "torch.Size([1, 30, 10, 10])\n"
     ]
    },
    {
     "name": "stderr",
     "output_type": "stream",
     "text": [
      " 29%|██▉       | 58/200 [00:03<00:08, 16.12it/s]"
     ]
    },
    {
     "name": "stdout",
     "output_type": "stream",
     "text": [
      "torch.Size([1, 30, 10, 10])\n",
      "torch.Size([1, 30, 10, 10])\n",
      "torch.Size([1, 30, 10, 10])\n"
     ]
    },
    {
     "name": "stderr",
     "output_type": "stream",
     "text": [
      " 30%|███       | 60/200 [00:03<00:08, 15.76it/s]"
     ]
    },
    {
     "name": "stdout",
     "output_type": "stream",
     "text": [
      "torch.Size([1, 30, 10, 10])\n",
      "torch.Size([1, 30, 10, 10])\n",
      "torch.Size([1, 30, 10, 10])\n",
      "torch.Size([1, 30, 10, 10])\n"
     ]
    },
    {
     "name": "stderr",
     "output_type": "stream",
     "text": [
      " 33%|███▎      | 66/200 [00:03<00:06, 19.57it/s]"
     ]
    },
    {
     "name": "stdout",
     "output_type": "stream",
     "text": [
      "torch.Size([1, 30, 10, 10])\n",
      "torch.Size([1, 30, 10, 10])\n",
      "torch.Size([1, 30, 10, 10])\n",
      "torch.Size([1, 30, 10, 10])\n",
      "torch.Size([1, 30, 10, 10])\n",
      "torch.Size([1, 30, 10, 10])\n"
     ]
    },
    {
     "name": "stderr",
     "output_type": "stream",
     "text": [
      " 35%|███▌      | 70/200 [00:04<00:06, 19.33it/s]"
     ]
    },
    {
     "name": "stdout",
     "output_type": "stream",
     "text": [
      "torch.Size([1, 30, 10, 10])\n",
      "torch.Size([1, 30, 10, 10])\n",
      "torch.Size([1, 30, 10, 10])\n"
     ]
    },
    {
     "name": "stderr",
     "output_type": "stream",
     "text": [
      " 38%|███▊      | 77/200 [00:04<00:06, 19.37it/s]"
     ]
    },
    {
     "name": "stdout",
     "output_type": "stream",
     "text": [
      "torch.Size([1, 30, 10, 10])\n",
      "torch.Size([1, 30, 10, 10])\n",
      "torch.Size([1, 30, 10, 10])\n",
      "torch.Size([1, 30, 10, 10])\n",
      "torch.Size([1, 30, 10, 10])\n",
      "torch.Size([1, 30, 10, 10])\n",
      "torch.Size([1, 30, 10, 10])\n",
      "torch.Size([1, 30, 10, 10])\n"
     ]
    },
    {
     "name": "stderr",
     "output_type": "stream",
     "text": [
      " 42%|████▏     | 83/200 [00:04<00:06, 18.38it/s]"
     ]
    },
    {
     "name": "stdout",
     "output_type": "stream",
     "text": [
      "torch.Size([1, 30, 10, 10])\n",
      "torch.Size([1, 30, 10, 10])\n",
      "torch.Size([1, 30, 10, 10])\n",
      "torch.Size([1, 30, 10, 10])\n",
      "torch.Size([1, 30, 10, 10])\n"
     ]
    },
    {
     "name": "stderr",
     "output_type": "stream",
     "text": [
      " 45%|████▌     | 90/200 [00:05<00:04, 22.87it/s]"
     ]
    },
    {
     "name": "stdout",
     "output_type": "stream",
     "text": [
      "torch.Size([1, 30, 10, 10])\n",
      "torch.Size([1, 30, 10, 10])\n",
      "torch.Size([1, 30, 10, 10])\n",
      "torch.Size([1, 30, 10, 10])\n",
      "torch.Size([1, 30, 10, 10])\n",
      "torch.Size([1, 30, 10, 10])\n",
      "torch.Size([1, 30, 10, 10])\n"
     ]
    },
    {
     "name": "stderr",
     "output_type": "stream",
     "text": [
      " 48%|████▊     | 97/200 [00:05<00:03, 26.06it/s]"
     ]
    },
    {
     "name": "stdout",
     "output_type": "stream",
     "text": [
      "torch.Size([1, 30, 10, 10])\n",
      "torch.Size([1, 30, 10, 10])\n",
      "torch.Size([1, 30, 10, 10])\n",
      "torch.Size([1, 30, 10, 10])\n",
      "torch.Size([1, 30, 10, 10])\n",
      "torch.Size([1, 30, 10, 10])\n",
      "torch.Size([1, 30, 10, 10])\n",
      "torch.Size([1, 30, 10, 10])\n",
      "torch.Size([1, 30, 10, 10])\n"
     ]
    },
    {
     "name": "stderr",
     "output_type": "stream",
     "text": [
      " 52%|█████▏    | 104/200 [00:05<00:04, 19.57it/s]"
     ]
    },
    {
     "name": "stdout",
     "output_type": "stream",
     "text": [
      "torch.Size([1, 30, 10, 10])\n",
      "torch.Size([1, 30, 10, 10])\n",
      "torch.Size([1, 30, 10, 10])\n",
      "torch.Size([1, 30, 10, 10])\n",
      "torch.Size([1, 30, 10, 10])\n",
      "torch.Size([1, 30, 10, 10])\n",
      "torch.Size([1, 30, 10, 10])\n"
     ]
    },
    {
     "name": "stderr",
     "output_type": "stream",
     "text": [
      " 55%|█████▌    | 110/200 [00:05<00:04, 21.56it/s]"
     ]
    },
    {
     "name": "stdout",
     "output_type": "stream",
     "text": [
      "torch.Size([1, 30, 10, 10])\n",
      "torch.Size([1, 30, 10, 10])\n",
      "torch.Size([1, 30, 10, 10])\n",
      "torch.Size([1, 30, 10, 10])\n",
      "torch.Size([1, 30, 10, 10])\n"
     ]
    },
    {
     "name": "stderr",
     "output_type": "stream",
     "text": [
      " 58%|█████▊    | 116/200 [00:06<00:03, 22.59it/s]"
     ]
    },
    {
     "name": "stdout",
     "output_type": "stream",
     "text": [
      "torch.Size([1, 30, 10, 10])\n",
      "torch.Size([1, 30, 10, 10])\n",
      "torch.Size([1, 30, 10, 10])\n",
      "torch.Size([1, 30, 10, 10])\n",
      "torch.Size([1, 30, 10, 10])\n",
      "torch.Size([1, 30, 10, 10])\n",
      "torch.Size([1, 30, 10, 10])\n"
     ]
    },
    {
     "name": "stderr",
     "output_type": "stream",
     "text": [
      " 61%|██████    | 122/200 [00:06<00:04, 18.41it/s]"
     ]
    },
    {
     "name": "stdout",
     "output_type": "stream",
     "text": [
      "torch.Size([1, 30, 10, 10])\n",
      "torch.Size([1, 30, 10, 10])\n",
      "torch.Size([1, 30, 10, 10])\n",
      "torch.Size([1, 30, 10, 10])\n"
     ]
    },
    {
     "name": "stderr",
     "output_type": "stream",
     "text": [
      " 62%|██████▎   | 125/200 [00:07<00:06, 12.23it/s]"
     ]
    },
    {
     "name": "stdout",
     "output_type": "stream",
     "text": [
      "torch.Size([1, 30, 10, 10])\n",
      "torch.Size([1, 30, 10, 10])\n",
      "torch.Size([1, 30, 10, 10])\n",
      "torch.Size([1, 30, 10, 10])\n"
     ]
    },
    {
     "name": "stderr",
     "output_type": "stream",
     "text": [
      " 64%|██████▍   | 128/200 [00:07<00:05, 13.31it/s]"
     ]
    },
    {
     "name": "stdout",
     "output_type": "stream",
     "text": [
      "torch.Size([1, 30, 10, 10])\n",
      "torch.Size([1, 30, 10, 10])\n"
     ]
    },
    {
     "name": "stderr",
     "output_type": "stream",
     "text": [
      " 65%|██████▌   | 130/200 [00:07<00:09,  7.75it/s]"
     ]
    },
    {
     "name": "stdout",
     "output_type": "stream",
     "text": [
      "torch.Size([1, 30, 10, 10])\n",
      "torch.Size([1, 30, 10, 10])\n",
      "torch.Size([1, 30, 10, 10])\n"
     ]
    },
    {
     "name": "stderr",
     "output_type": "stream",
     "text": [
      " 66%|██████▌   | 132/200 [00:08<00:10,  6.65it/s]"
     ]
    },
    {
     "name": "stdout",
     "output_type": "stream",
     "text": [
      "torch.Size([1, 30, 10, 10])\n",
      "torch.Size([1, 30, 10, 10])\n"
     ]
    },
    {
     "name": "stderr",
     "output_type": "stream",
     "text": [
      " 68%|██████▊   | 135/200 [00:08<00:08,  7.30it/s]"
     ]
    },
    {
     "name": "stdout",
     "output_type": "stream",
     "text": [
      "torch.Size([1, 30, 10, 10])\n",
      "torch.Size([1, 30, 10, 10])\n"
     ]
    },
    {
     "name": "stderr",
     "output_type": "stream",
     "text": [
      " 68%|██████▊   | 136/200 [00:08<00:08,  7.64it/s]"
     ]
    },
    {
     "name": "stdout",
     "output_type": "stream",
     "text": [
      "torch.Size([1, 30, 10, 10])\n",
      "torch.Size([1, 30, 10, 10])\n"
     ]
    },
    {
     "name": "stderr",
     "output_type": "stream",
     "text": [
      " 70%|███████   | 140/200 [00:09<00:06,  9.15it/s]"
     ]
    },
    {
     "name": "stdout",
     "output_type": "stream",
     "text": [
      "torch.Size([1, 30, 10, 10])\n",
      "torch.Size([1, 30, 10, 10])\n",
      "torch.Size([1, 30, 10, 10])\n",
      "torch.Size([1, 30, 10, 10])\n"
     ]
    },
    {
     "name": "stderr",
     "output_type": "stream",
     "text": [
      " 72%|███████▎  | 145/200 [00:09<00:04, 12.82it/s]"
     ]
    },
    {
     "name": "stdout",
     "output_type": "stream",
     "text": [
      "torch.Size([1, 30, 10, 10])\n",
      "torch.Size([1, 30, 10, 10])\n",
      "torch.Size([1, 30, 10, 10])\n",
      "torch.Size([1, 30, 10, 10])\n"
     ]
    },
    {
     "name": "stderr",
     "output_type": "stream",
     "text": [
      " 74%|███████▎  | 147/200 [00:09<00:03, 14.12it/s]"
     ]
    },
    {
     "name": "stdout",
     "output_type": "stream",
     "text": [
      "torch.Size([1, 30, 10, 10])\n",
      "torch.Size([1, 30, 10, 10])\n",
      "torch.Size([1, 30, 10, 10])\n",
      "torch.Size([1, 30, 10, 10])\n"
     ]
    },
    {
     "name": "stderr",
     "output_type": "stream",
     "text": [
      " 76%|███████▌  | 152/200 [00:09<00:03, 14.37it/s]"
     ]
    },
    {
     "name": "stdout",
     "output_type": "stream",
     "text": [
      "torch.Size([1, 30, 10, 10])\n",
      "torch.Size([1, 30, 10, 10])\n",
      "torch.Size([1, 30, 10, 10])\n",
      "torch.Size([1, 30, 10, 10])\n"
     ]
    },
    {
     "name": "stderr",
     "output_type": "stream",
     "text": [
      " 80%|███████▉  | 159/200 [00:10<00:01, 21.71it/s]"
     ]
    },
    {
     "name": "stdout",
     "output_type": "stream",
     "text": [
      "torch.Size([1, 30, 10, 10])\n",
      "torch.Size([1, 30, 10, 10])\n",
      "torch.Size([1, 30, 10, 10])\n",
      "torch.Size([1, 30, 10, 10])\n",
      "torch.Size([1, 30, 10, 10])\n",
      "torch.Size([1, 30, 10, 10])\n",
      "torch.Size([1, 30, 10, 10])\n",
      "torch.Size([1, 30, 10, 10])\n"
     ]
    },
    {
     "name": "stderr",
     "output_type": "stream",
     "text": [
      " 82%|████████▏ | 164/200 [00:10<00:03, 11.45it/s]"
     ]
    },
    {
     "name": "stdout",
     "output_type": "stream",
     "text": [
      "torch.Size([1, 30, 10, 10])\n",
      "torch.Size([1, 30, 10, 10])\n",
      "torch.Size([1, 30, 10, 10])\n"
     ]
    },
    {
     "name": "stderr",
     "output_type": "stream",
     "text": [
      " 83%|████████▎ | 166/200 [00:11<00:03,  8.87it/s]"
     ]
    },
    {
     "name": "stdout",
     "output_type": "stream",
     "text": [
      "torch.Size([1, 30, 10, 10])\n",
      "torch.Size([1, 30, 10, 10])\n"
     ]
    },
    {
     "name": "stderr",
     "output_type": "stream",
     "text": [
      " 86%|████████▋ | 173/200 [00:11<00:01, 15.25it/s]"
     ]
    },
    {
     "name": "stdout",
     "output_type": "stream",
     "text": [
      "torch.Size([1, 30, 10, 10])\n",
      "torch.Size([1, 30, 10, 10])\n",
      "torch.Size([1, 30, 10, 10])\n",
      "torch.Size([1, 30, 10, 10])\n",
      "torch.Size([1, 30, 10, 10])\n",
      "torch.Size([1, 30, 10, 10])\n",
      "torch.Size([1, 30, 10, 10])\n",
      "torch.Size([1, 30, 10, 10])\n"
     ]
    },
    {
     "name": "stderr",
     "output_type": "stream",
     "text": [
      " 88%|████████▊ | 176/200 [00:11<00:01, 16.69it/s]"
     ]
    },
    {
     "name": "stdout",
     "output_type": "stream",
     "text": [
      "torch.Size([1, 30, 10, 10])\n",
      "torch.Size([1, 30, 10, 10])\n",
      "torch.Size([1, 30, 10, 10])\n",
      "torch.Size([1, 30, 10, 10])\n"
     ]
    },
    {
     "name": "stderr",
     "output_type": "stream",
     "text": [
      " 91%|█████████ | 182/200 [00:11<00:00, 18.89it/s]"
     ]
    },
    {
     "name": "stdout",
     "output_type": "stream",
     "text": [
      "torch.Size([1, 30, 10, 10])\n",
      "torch.Size([1, 30, 10, 10])\n",
      "torch.Size([1, 30, 10, 10])\n",
      "torch.Size([1, 30, 10, 10])\n",
      "torch.Size([1, 30, 10, 10])\n",
      "torch.Size([1, 30, 10, 10])\n"
     ]
    },
    {
     "name": "stderr",
     "output_type": "stream",
     "text": [
      " 94%|█████████▍| 189/200 [00:12<00:00, 21.16it/s]"
     ]
    },
    {
     "name": "stdout",
     "output_type": "stream",
     "text": [
      "torch.Size([1, 30, 10, 10])\n",
      "torch.Size([1, 30, 10, 10])\n",
      "torch.Size([1, 30, 10, 10])\n",
      "torch.Size([1, 30, 10, 10])\n",
      "torch.Size([1, 30, 10, 10])\n",
      "torch.Size([1, 30, 10, 10])\n"
     ]
    },
    {
     "name": "stderr",
     "output_type": "stream",
     "text": [
      " 98%|█████████▊| 195/200 [00:12<00:00, 20.12it/s]"
     ]
    },
    {
     "name": "stdout",
     "output_type": "stream",
     "text": [
      "torch.Size([1, 30, 10, 10])\n",
      "torch.Size([1, 30, 10, 10])\n",
      "torch.Size([1, 30, 10, 10])\n",
      "torch.Size([1, 30, 10, 10])\n",
      "torch.Size([1, 30, 10, 10])\n",
      "torch.Size([1, 30, 10, 10])\n"
     ]
    },
    {
     "name": "stderr",
     "output_type": "stream",
     "text": [
      "100%|██████████| 200/200 [00:12<00:00, 15.66it/s]"
     ]
    },
    {
     "name": "stdout",
     "output_type": "stream",
     "text": [
      "torch.Size([1, 30, 10, 10])\n",
      "torch.Size([1, 30, 10, 10])\n",
      "torch.Size([1, 30, 10, 10])\n",
      "torch.Size([1, 30, 10, 10])\n",
      "average train losses 0.2478819761206122\n",
      "average test losses 1.8448496388076847\n",
      "test precision 0.8192533005965842\n",
      "test recall 0.36565979625681116\n",
      "average precision [0.4819409446275118]\n"
     ]
    },
    {
     "name": "stderr",
     "output_type": "stream",
     "text": [
      "\n"
     ]
    },
    {
     "data": {
      "image/png": "[encoded data removed]",
      "text/plain": [
       "<Figure size 640x480 with 1 Axes>"
      ]
     },
     "metadata": {},
     "output_type": "display_data"
    },
    {
     "name": "stdout",
     "output_type": "stream",
     "text": [
      "Validation started---------\n"
     ]
    },
    {
     "name": "stderr",
     "output_type": "stream",
     "text": [
      "  2%|▏         | 4/200 [00:00<00:06, 28.09it/s]"
     ]
    },
    {
     "name": "stdout",
     "output_type": "stream",
     "text": [
      "torch.Size([1, 30, 10, 10])\n",
      "torch.Size([1, 30, 10, 10])\n",
      "torch.Size([1, 30, 10, 10])\n",
      "torch.Size([1, 30, 10, 10])\n",
      "torch.Size([1, 30, 10, 10])\n",
      "torch.Size([1, 30, 10, 10])\n"
     ]
    },
    {
     "name": "stderr",
     "output_type": "stream",
     "text": [
      "  4%|▎         | 7/200 [00:00<00:06, 27.72it/s]"
     ]
    },
    {
     "name": "stdout",
     "output_type": "stream",
     "text": [
      "torch.Size([1, 30, 10, 10])\n",
      "torch.Size([1, 30, 10, 10])\n",
      "torch.Size([1, 30, 10, 10])\n",
      "torch.Size([1, 30, 10, 10])\n"
     ]
    },
    {
     "name": "stderr",
     "output_type": "stream",
     "text": [
      "  7%|▋         | 14/200 [00:00<00:09, 19.16it/s]"
     ]
    },
    {
     "name": "stdout",
     "output_type": "stream",
     "text": [
      "torch.Size([1, 30, 10, 10])\n",
      "torch.Size([1, 30, 10, 10])\n",
      "torch.Size([1, 30, 10, 10])\n",
      "torch.Size([1, 30, 10, 10])\n",
      "torch.Size([1, 30, 10, 10])\n"
     ]
    },
    {
     "name": "stderr",
     "output_type": "stream",
     "text": [
      "  8%|▊         | 17/200 [00:00<00:08, 20.79it/s]"
     ]
    },
    {
     "name": "stdout",
     "output_type": "stream",
     "text": [
      "torch.Size([1, 30, 10, 10])\n",
      "torch.Size([1, 30, 10, 10])\n",
      "torch.Size([1, 30, 10, 10])\n",
      "torch.Size([1, 30, 10, 10])\n",
      "torch.Size([1, 30, 10, 10])\n"
     ]
    },
    {
     "name": "stderr",
     "output_type": "stream",
     "text": [
      " 12%|█▏        | 23/200 [00:01<00:08, 19.78it/s]"
     ]
    },
    {
     "name": "stdout",
     "output_type": "stream",
     "text": [
      "torch.Size([1, 30, 10, 10])\n",
      "torch.Size([1, 30, 10, 10])\n",
      "torch.Size([1, 30, 10, 10])\n",
      "torch.Size([1, 30, 10, 10])\n",
      "torch.Size([1, 30, 10, 10])\n"
     ]
    },
    {
     "name": "stderr",
     "output_type": "stream",
     "text": [
      " 14%|█▍        | 29/200 [00:01<00:08, 20.80it/s]"
     ]
    },
    {
     "name": "stdout",
     "output_type": "stream",
     "text": [
      "torch.Size([1, 30, 10, 10])\n",
      "torch.Size([1, 30, 10, 10])\n",
      "torch.Size([1, 30, 10, 10])\n",
      "torch.Size([1, 30, 10, 10])\n",
      "torch.Size([1, 30, 10, 10])\n",
      "torch.Size([1, 30, 10, 10])\n"
     ]
    },
    {
     "name": "stderr",
     "output_type": "stream",
     "text": [
      " 16%|█▌        | 32/200 [00:01<00:09, 18.49it/s]"
     ]
    },
    {
     "name": "stdout",
     "output_type": "stream",
     "text": [
      "torch.Size([1, 30, 10, 10])\n",
      "torch.Size([1, 30, 10, 10])\n",
      "torch.Size([1, 30, 10, 10])\n",
      "torch.Size([1, 30, 10, 10])\n"
     ]
    },
    {
     "name": "stderr",
     "output_type": "stream",
     "text": [
      " 19%|█▉        | 38/200 [00:02<00:12, 12.87it/s]"
     ]
    },
    {
     "name": "stdout",
     "output_type": "stream",
     "text": [
      "torch.Size([1, 30, 10, 10])\n",
      "torch.Size([1, 30, 10, 10])\n",
      "torch.Size([1, 30, 10, 10])\n",
      "torch.Size([1, 30, 10, 10])\n",
      "torch.Size([1, 30, 10, 10])\n"
     ]
    },
    {
     "name": "stderr",
     "output_type": "stream",
     "text": [
      " 21%|██        | 42/200 [00:02<00:11, 13.82it/s]"
     ]
    },
    {
     "name": "stdout",
     "output_type": "stream",
     "text": [
      "torch.Size([1, 30, 10, 10])\n",
      "torch.Size([1, 30, 10, 10])\n",
      "torch.Size([1, 30, 10, 10])\n",
      "torch.Size([1, 30, 10, 10])\n"
     ]
    },
    {
     "name": "stderr",
     "output_type": "stream",
     "text": [
      " 24%|██▎       | 47/200 [00:02<00:09, 16.80it/s]"
     ]
    },
    {
     "name": "stdout",
     "output_type": "stream",
     "text": [
      "torch.Size([1, 30, 10, 10])\n",
      "torch.Size([1, 30, 10, 10])\n",
      "torch.Size([1, 30, 10, 10])\n",
      "torch.Size([1, 30, 10, 10])\n",
      "torch.Size([1, 30, 10, 10])\n",
      "torch.Size([1, 30, 10, 10])\n"
     ]
    },
    {
     "name": "stderr",
     "output_type": "stream",
     "text": [
      " 26%|██▋       | 53/200 [00:03<00:09, 15.76it/s]"
     ]
    },
    {
     "name": "stdout",
     "output_type": "stream",
     "text": [
      "torch.Size([1, 30, 10, 10])\n",
      "torch.Size([1, 30, 10, 10])\n",
      "torch.Size([1, 30, 10, 10])\n",
      "torch.Size([1, 30, 10, 10])\n",
      "torch.Size([1, 30, 10, 10])\n"
     ]
    },
    {
     "name": "stderr",
     "output_type": "stream",
     "text": [
      " 28%|██▊       | 56/200 [00:03<00:11, 13.03it/s]"
     ]
    },
    {
     "name": "stdout",
     "output_type": "stream",
     "text": [
      "torch.Size([1, 30, 10, 10])\n"
     ]
    },
    {
     "name": "stderr",
     "output_type": "stream",
     "text": [
      " 30%|██▉       | 59/200 [00:03<00:09, 15.07it/s]"
     ]
    },
    {
     "name": "stdout",
     "output_type": "stream",
     "text": [
      "torch.Size([1, 30, 10, 10])\n",
      "torch.Size([1, 30, 10, 10])\n",
      "torch.Size([1, 30, 10, 10])\n",
      "torch.Size([1, 30, 10, 10])\n"
     ]
    },
    {
     "name": "stderr",
     "output_type": "stream",
     "text": [
      " 32%|███▏      | 63/200 [00:03<00:09, 14.41it/s]"
     ]
    },
    {
     "name": "stdout",
     "output_type": "stream",
     "text": [
      "torch.Size([1, 30, 10, 10])\n",
      "torch.Size([1, 30, 10, 10])\n",
      "torch.Size([1, 30, 10, 10])\n",
      "torch.Size([1, 30, 10, 10])\n",
      "torch.Size([1, 30, 10, 10])\n"
     ]
    },
    {
     "name": "stderr",
     "output_type": "stream",
     "text": [
      " 34%|███▎      | 67/200 [00:04<00:06, 19.05it/s]"
     ]
    },
    {
     "name": "stdout",
     "output_type": "stream",
     "text": [
      "torch.Size([1, 30, 10, 10])\n",
      "torch.Size([1, 30, 10, 10])\n",
      "torch.Size([1, 30, 10, 10])\n",
      "torch.Size([1, 30, 10, 10])\n",
      "torch.Size([1, 30, 10, 10])\n"
     ]
    },
    {
     "name": "stderr",
     "output_type": "stream",
     "text": [
      " 35%|███▌      | 70/200 [00:04<00:07, 17.22it/s]"
     ]
    },
    {
     "name": "stdout",
     "output_type": "stream",
     "text": [
      "torch.Size([1, 30, 10, 10])\n",
      "torch.Size([1, 30, 10, 10])\n"
     ]
    },
    {
     "name": "stderr",
     "output_type": "stream",
     "text": [
      " 38%|███▊      | 75/200 [00:04<00:08, 15.62it/s]"
     ]
    },
    {
     "name": "stdout",
     "output_type": "stream",
     "text": [
      "torch.Size([1, 30, 10, 10])\n",
      "torch.Size([1, 30, 10, 10])\n",
      "torch.Size([1, 30, 10, 10])\n",
      "torch.Size([1, 30, 10, 10])\n",
      "torch.Size([1, 30, 10, 10])\n"
     ]
    },
    {
     "name": "stderr",
     "output_type": "stream",
     "text": [
      " 39%|███▉      | 78/200 [00:04<00:07, 16.37it/s]"
     ]
    },
    {
     "name": "stdout",
     "output_type": "stream",
     "text": [
      "torch.Size([1, 30, 10, 10])\n",
      "torch.Size([1, 30, 10, 10])\n"
     ]
    },
    {
     "name": "stderr",
     "output_type": "stream",
     "text": [
      " 42%|████▏     | 83/200 [00:05<00:07, 16.61it/s]"
     ]
    },
    {
     "name": "stdout",
     "output_type": "stream",
     "text": [
      "torch.Size([1, 30, 10, 10])\n",
      "torch.Size([1, 30, 10, 10])\n",
      "torch.Size([1, 30, 10, 10])\n",
      "torch.Size([1, 30, 10, 10])\n",
      "torch.Size([1, 30, 10, 10])\n"
     ]
    },
    {
     "name": "stderr",
     "output_type": "stream",
     "text": [
      " 44%|████▍     | 89/200 [00:05<00:05, 21.84it/s]"
     ]
    },
    {
     "name": "stdout",
     "output_type": "stream",
     "text": [
      "torch.Size([1, 30, 10, 10])\n",
      "torch.Size([1, 30, 10, 10])\n",
      "torch.Size([1, 30, 10, 10])\n",
      "torch.Size([1, 30, 10, 10])\n",
      "torch.Size([1, 30, 10, 10])\n",
      "torch.Size([1, 30, 10, 10])\n",
      "torch.Size([1, 30, 10, 10])\n"
     ]
    },
    {
     "name": "stderr",
     "output_type": "stream",
     "text": [
      " 48%|████▊     | 96/200 [00:05<00:04, 25.67it/s]"
     ]
    },
    {
     "name": "stdout",
     "output_type": "stream",
     "text": [
      "torch.Size([1, 30, 10, 10])\n",
      "torch.Size([1, 30, 10, 10])\n",
      "torch.Size([1, 30, 10, 10])\n",
      "torch.Size([1, 30, 10, 10])\n",
      "torch.Size([1, 30, 10, 10])\n",
      "torch.Size([1, 30, 10, 10])\n",
      "torch.Size([1, 30, 10, 10])\n"
     ]
    },
    {
     "name": "stderr",
     "output_type": "stream",
     "text": [
      " 50%|████▉     | 99/200 [00:05<00:03, 26.23it/s]"
     ]
    },
    {
     "name": "stdout",
     "output_type": "stream",
     "text": [
      "torch.Size([1, 30, 10, 10])\n",
      "torch.Size([1, 30, 10, 10])\n"
     ]
    },
    {
     "name": "stderr",
     "output_type": "stream",
     "text": [
      " 52%|█████▎    | 105/200 [00:06<00:04, 19.23it/s]"
     ]
    },
    {
     "name": "stdout",
     "output_type": "stream",
     "text": [
      "torch.Size([1, 30, 10, 10])\n",
      "torch.Size([1, 30, 10, 10])\n",
      "torch.Size([1, 30, 10, 10])\n",
      "torch.Size([1, 30, 10, 10])\n",
      "torch.Size([1, 30, 10, 10])\n",
      "torch.Size([1, 30, 10, 10])\n",
      "torch.Size([1, 30, 10, 10])\n"
     ]
    },
    {
     "name": "stderr",
     "output_type": "stream",
     "text": [
      " 56%|█████▌    | 111/200 [00:06<00:04, 20.90it/s]"
     ]
    },
    {
     "name": "stdout",
     "output_type": "stream",
     "text": [
      "torch.Size([1, 30, 10, 10])\n",
      "torch.Size([1, 30, 10, 10])\n",
      "torch.Size([1, 30, 10, 10])\n",
      "torch.Size([1, 30, 10, 10])\n",
      "torch.Size([1, 30, 10, 10])\n"
     ]
    },
    {
     "name": "stderr",
     "output_type": "stream",
     "text": [
      " 58%|█████▊    | 117/200 [00:06<00:03, 22.63it/s]"
     ]
    },
    {
     "name": "stdout",
     "output_type": "stream",
     "text": [
      "torch.Size([1, 30, 10, 10])\n",
      "torch.Size([1, 30, 10, 10])\n",
      "torch.Size([1, 30, 10, 10])\n",
      "torch.Size([1, 30, 10, 10])\n",
      "torch.Size([1, 30, 10, 10])\n",
      "torch.Size([1, 30, 10, 10])\n"
     ]
    },
    {
     "name": "stderr",
     "output_type": "stream",
     "text": [
      " 60%|██████    | 120/200 [00:06<00:04, 19.93it/s]"
     ]
    },
    {
     "name": "stdout",
     "output_type": "stream",
     "text": [
      "torch.Size([1, 30, 10, 10])\n",
      "torch.Size([1, 30, 10, 10])\n",
      "torch.Size([1, 30, 10, 10])\n",
      "torch.Size([1, 30, 10, 10])\n",
      "torch.Size([1, 30, 10, 10])\n"
     ]
    },
    {
     "name": "stderr",
     "output_type": "stream",
     "text": [
      " 62%|██████▎   | 125/200 [00:07<00:07, 10.07it/s]"
     ]
    },
    {
     "name": "stdout",
     "output_type": "stream",
     "text": [
      "torch.Size([1, 30, 10, 10])\n",
      "torch.Size([1, 30, 10, 10])\n",
      "torch.Size([1, 30, 10, 10])\n",
      "torch.Size([1, 30, 10, 10])\n",
      "torch.Size([1, 30, 10, 10])\n",
      "torch.Size([1, 30, 10, 10])\n"
     ]
    },
    {
     "name": "stderr",
     "output_type": "stream",
     "text": [
      " 66%|██████▌   | 131/200 [00:08<00:08,  8.16it/s]"
     ]
    },
    {
     "name": "stdout",
     "output_type": "stream",
     "text": [
      "torch.Size([1, 30, 10, 10])\n",
      "torch.Size([1, 30, 10, 10])\n",
      "torch.Size([1, 30, 10, 10])\n"
     ]
    },
    {
     "name": "stderr",
     "output_type": "stream",
     "text": [
      " 66%|██████▋   | 133/200 [00:09<00:10,  6.50it/s]"
     ]
    },
    {
     "name": "stdout",
     "output_type": "stream",
     "text": [
      "torch.Size([1, 30, 10, 10])\n",
      "torch.Size([1, 30, 10, 10])\n"
     ]
    },
    {
     "name": "stderr",
     "output_type": "stream",
     "text": [
      " 68%|██████▊   | 135/200 [00:09<00:10,  6.42it/s]"
     ]
    },
    {
     "name": "stdout",
     "output_type": "stream",
     "text": [
      "torch.Size([1, 30, 10, 10])\n",
      "torch.Size([1, 30, 10, 10])\n"
     ]
    },
    {
     "name": "stderr",
     "output_type": "stream",
     "text": [
      " 68%|██████▊   | 136/200 [00:09<00:09,  6.67it/s]"
     ]
    },
    {
     "name": "stdout",
     "output_type": "stream",
     "text": [
      "torch.Size([1, 30, 10, 10])\n",
      "torch.Size([1, 30, 10, 10])\n"
     ]
    },
    {
     "name": "stderr",
     "output_type": "stream",
     "text": [
      " 70%|███████   | 140/200 [00:10<00:07,  8.27it/s]"
     ]
    },
    {
     "name": "stdout",
     "output_type": "stream",
     "text": [
      "torch.Size([1, 30, 10, 10])\n",
      "torch.Size([1, 30, 10, 10])\n",
      "torch.Size([1, 30, 10, 10])\n",
      "torch.Size([1, 30, 10, 10])\n"
     ]
    },
    {
     "name": "stderr",
     "output_type": "stream",
     "text": [
      " 72%|███████▎  | 145/200 [00:10<00:04, 11.99it/s]"
     ]
    },
    {
     "name": "stdout",
     "output_type": "stream",
     "text": [
      "torch.Size([1, 30, 10, 10])\n",
      "torch.Size([1, 30, 10, 10])\n",
      "torch.Size([1, 30, 10, 10])\n",
      "torch.Size([1, 30, 10, 10])\n"
     ]
    },
    {
     "name": "stderr",
     "output_type": "stream",
     "text": [
      " 74%|███████▍  | 149/200 [00:10<00:03, 14.57it/s]"
     ]
    },
    {
     "name": "stdout",
     "output_type": "stream",
     "text": [
      "torch.Size([1, 30, 10, 10])\n",
      "torch.Size([1, 30, 10, 10])\n",
      "torch.Size([1, 30, 10, 10])\n",
      "torch.Size([1, 30, 10, 10])\n"
     ]
    },
    {
     "name": "stderr",
     "output_type": "stream",
     "text": [
      " 76%|███████▋  | 153/200 [00:10<00:03, 12.30it/s]"
     ]
    },
    {
     "name": "stdout",
     "output_type": "stream",
     "text": [
      "torch.Size([1, 30, 10, 10])\n",
      "torch.Size([1, 30, 10, 10])\n",
      "torch.Size([1, 30, 10, 10])\n"
     ]
    },
    {
     "name": "stderr",
     "output_type": "stream",
     "text": [
      " 78%|███████▊  | 155/200 [00:11<00:03, 13.23it/s]"
     ]
    },
    {
     "name": "stdout",
     "output_type": "stream",
     "text": [
      "torch.Size([1, 30, 10, 10])\n",
      "torch.Size([1, 30, 10, 10])\n",
      "torch.Size([1, 30, 10, 10])\n",
      "torch.Size([1, 30, 10, 10])\n",
      "torch.Size([1, 30, 10, 10])\n"
     ]
    },
    {
     "name": "stderr",
     "output_type": "stream",
     "text": [
      " 80%|███████▉  | 159/200 [00:11<00:02, 18.65it/s]"
     ]
    },
    {
     "name": "stdout",
     "output_type": "stream",
     "text": [
      "torch.Size([1, 30, 10, 10])\n",
      "torch.Size([1, 30, 10, 10])\n",
      "torch.Size([1, 30, 10, 10])\n",
      "torch.Size([1, 30, 10, 10])\n"
     ]
    },
    {
     "name": "stderr",
     "output_type": "stream",
     "text": [
      " 82%|████████▏ | 164/200 [00:12<00:03,  9.18it/s]"
     ]
    },
    {
     "name": "stdout",
     "output_type": "stream",
     "text": [
      "torch.Size([1, 30, 10, 10])\n",
      "torch.Size([1, 30, 10, 10])\n",
      "torch.Size([1, 30, 10, 10])\n"
     ]
    },
    {
     "name": "stderr",
     "output_type": "stream",
     "text": [
      " 83%|████████▎ | 166/200 [00:12<00:04,  6.87it/s]"
     ]
    },
    {
     "name": "stdout",
     "output_type": "stream",
     "text": [
      "torch.Size([1, 30, 10, 10])\n",
      "torch.Size([1, 30, 10, 10])\n",
      "torch.Size([1, 30, 10, 10])\n",
      "torch.Size([1, 30, 10, 10])\n",
      "torch.Size([1, 30, 10, 10])\n"
     ]
    },
    {
     "name": "stderr",
     "output_type": "stream",
     "text": [
      " 86%|████████▌ | 171/200 [00:12<00:02, 10.93it/s]"
     ]
    },
    {
     "name": "stdout",
     "output_type": "stream",
     "text": [
      "torch.Size([1, 30, 10, 10])\n",
      "torch.Size([1, 30, 10, 10])\n",
      "torch.Size([1, 30, 10, 10])\n",
      "torch.Size([1, 30, 10, 10])\n"
     ]
    },
    {
     "name": "stderr",
     "output_type": "stream",
     "text": [
      " 88%|████████▊ | 176/200 [00:12<00:01, 12.70it/s]"
     ]
    },
    {
     "name": "stdout",
     "output_type": "stream",
     "text": [
      "torch.Size([1, 30, 10, 10])\n",
      "torch.Size([1, 30, 10, 10])\n",
      "torch.Size([1, 30, 10, 10])\n"
     ]
    },
    {
     "name": "stderr",
     "output_type": "stream",
     "text": [
      " 90%|█████████ | 180/200 [00:13<00:01, 13.78it/s]"
     ]
    },
    {
     "name": "stdout",
     "output_type": "stream",
     "text": [
      "torch.Size([1, 30, 10, 10])\n",
      "torch.Size([1, 30, 10, 10])\n",
      "torch.Size([1, 30, 10, 10])\n",
      "torch.Size([1, 30, 10, 10])\n",
      "torch.Size([1, 30, 10, 10])\n"
     ]
    },
    {
     "name": "stderr",
     "output_type": "stream",
     "text": [
      " 92%|█████████▏| 184/200 [00:13<00:00, 18.39it/s]"
     ]
    },
    {
     "name": "stdout",
     "output_type": "stream",
     "text": [
      "torch.Size([1, 30, 10, 10])\n",
      "torch.Size([1, 30, 10, 10])\n",
      "torch.Size([1, 30, 10, 10])\n",
      "torch.Size([1, 30, 10, 10])\n"
     ]
    },
    {
     "name": "stderr",
     "output_type": "stream",
     "text": [
      " 94%|█████████▍| 189/200 [00:13<00:00, 14.77it/s]"
     ]
    },
    {
     "name": "stdout",
     "output_type": "stream",
     "text": [
      "torch.Size([1, 30, 10, 10])\n",
      "torch.Size([1, 30, 10, 10])\n",
      "torch.Size([1, 30, 10, 10])\n"
     ]
    },
    {
     "name": "stderr",
     "output_type": "stream",
     "text": [
      " 96%|█████████▌| 191/200 [00:13<00:00, 13.53it/s]"
     ]
    },
    {
     "name": "stdout",
     "output_type": "stream",
     "text": [
      "torch.Size([1, 30, 10, 10])\n",
      "torch.Size([1, 30, 10, 10])\n"
     ]
    },
    {
     "name": "stderr",
     "output_type": "stream",
     "text": [
      " 97%|█████████▋| 194/200 [00:14<00:00, 14.85it/s]"
     ]
    },
    {
     "name": "stdout",
     "output_type": "stream",
     "text": [
      "torch.Size([1, 30, 10, 10])\n",
      "torch.Size([1, 30, 10, 10])\n",
      "torch.Size([1, 30, 10, 10])\n",
      "torch.Size([1, 30, 10, 10])\n",
      "torch.Size([1, 30, 10, 10])\n"
     ]
    },
    {
     "name": "stderr",
     "output_type": "stream",
     "text": [
      "100%|██████████| 200/200 [00:14<00:00, 13.91it/s]"
     ]
    },
    {
     "name": "stdout",
     "output_type": "stream",
     "text": [
      "torch.Size([1, 30, 10, 10])\n",
      "torch.Size([1, 30, 10, 10])\n",
      "torch.Size([1, 30, 10, 10])\n",
      "torch.Size([1, 30, 10, 10])\n",
      "torch.Size([1, 30, 10, 10])\n",
      "average train losses 0.2478819761206122\n",
      "average test losses 1.8215011005748565\n",
      "test precision 0.8366123397949561\n",
      "test recall 0.4200684887252051\n",
      "average precision [0.4964199564945833]\n"
     ]
    },
    {
     "name": "stderr",
     "output_type": "stream",
     "text": [
      "\n"
     ]
    },
    {
     "data": {
      "image/png": "[encoded data removed]",
      "text/plain": [
       "<Figure size 640x480 with 1 Axes>"
      ]
     },
     "metadata": {},
     "output_type": "display_data"
    }
   ],
   "source": [
    "model = TinyYoloV2(num_classes=1)\n",
    "\n",
    "for i in range(95, 102, 5):\n",
    "    path = f\"models/voc_finetuned_{i}_epochs_lr0001_decay0005.pt\"\n",
    "    output_image_name = f\"voc_finetuned_{i}_epochs_lr0001_decay0005_roc\"\n",
    "    sdict = torch.load(path)\n",
    "    model.load_state_dict(sdict, strict=False)\n",
    "    model.eval()\n",
    "    model.to(device)\n",
    "    validateCkptFile(model, output_image_name)"
   ]
  }
 ],
 "metadata": {
  "kernelspec": {
   "display_name": "Python 3",
   "language": "python",
   "name": "python3"
  },
  "language_info": {
   "codemirror_mode": {
    "name": "ipython",
    "version": 3
   },
   "file_extension": ".py",
   "mimetype": "text/x-python",
   "name": "python",
   "nbconvert_exporter": "python",
   "pygments_lexer": "ipython3",
   "version": "3.11.9"
  }
 },
 "nbformat": 4,
 "nbformat_minor": 5
}
