{
 "cells": [
  {
   "cell_type": "markdown",
   "id": "5541fea7-a455-4282-a096-b48a594ec530",
   "metadata": {},
   "source": [
    "# Embedded ML Lab - Excercise 0 - Intro Training\n",
    "\n",
    "Now that we have covered Neural Network Inference, we come to the training of neural networks. We reuse the LeNet from the previous exercise.\n",
    "\n",
    "<span style=\"color:green\">Your Task:</span>\n",
    "* <span style=\"color:green\">Copy your implementation of the LeNet from the last excercise into Cell1</span>\n",
    "\n",
    "In Cell 2 the dataset is already prepared as a dataloader (using batch_size 32). Additionally, the images are already zero-centered and normalized. We have two separate data_loaders: `test_loader` for testing the accuracy of the model, and `train_data` for training the model. These two should not be mixed for their tasks. You can iterate over the batches of a dataloader by using `for idx, (input, targets) in enumerate(dataloader):`\n",
    "\n",
    "Before we start with training, we need to write two functions. The first is `correct_predictions(outputs, targets)`, where you can reuse code from exercise_00. This function takes the outputs and targets as input and returns an int with the number of correct predictions in the batch. \n",
    "The second function `test_net(net, device)`. This function iterates over the testloader, applies the network's forward pass, and returns the overall accuracy of the model (all correct predictions of the testset overall testset predictions)\n",
    "\n",
    "<span style=\"color:green\">Your Tasks:</span>\n",
    "* <span style=\"color:green\">Implement the `correct_predictions` function (Cell 3)</span>\n",
    "* <span style=\"color:green\">Implement the `test_net` function (Cell 4)</span>\n",
    "    * <span style=\"color:green\">First set the network in evaluation mode with `.eval()` </span>\n",
    "    * <span style=\"color:green\">Iterate over the batches in the dataloader</span>\n",
    "    * <span style=\"color:green\">For each batch calculate the correct detected images</span>\n",
    "    * NOTE: you can also only iterate over a fraction of batches to save some time\n",
    "    * <span style=\"color:green\">Return the overall Accuracy</span>"
   ]
  },
  {
   "cell_type": "code",
   "execution_count": 13,
   "id": "35f3654e-6a85-42db-84f3-cb7dca8f663f",
   "metadata": {},
   "outputs": [],
   "source": [
    "import torch\n",
    "import torch.nn as nn\n",
    "import torch.nn.functional as F\n",
    "\n",
    "class LeNet(nn.Module):\n",
    "    def __init__(self):\n",
    "        super(LeNet, self).__init__()\n",
    "        \n",
    "        #---to-be-done-by-student---\n",
    "        self.conv1 = nn.Conv2d(1, 6, 3)\n",
    "        self.conv2 = nn.Conv2d(6, 16, 3)\n",
    "        self.fc1 = nn.Linear(400,120)\n",
    "        self.fc2 = nn.Linear(120,84)\n",
    "        self.fc3 = nn.Linear(84,10)   \n",
    "        #---end---------------------\n",
    "        return\n",
    "    \n",
    "    def forward(self,x):\n",
    "        #---to-be-done-by-student---\n",
    "        tmp = self.conv1(x)\n",
    "        tmp = F.relu(tmp)\n",
    "        tmp = F.max_pool2d(tmp,2)\n",
    "        tmp = self.conv2(tmp)\n",
    "        tmp = F.relu(tmp)\n",
    "        tmp = F.max_pool2d(tmp,2)\n",
    "        tmp = tmp.flatten(start_dim=1) #passt jetzt\n",
    "        tmp = self.fc1(tmp)\n",
    "        tmp = F.relu(tmp)\n",
    "        tmp = self.fc2(tmp)\n",
    "        tmp = F.relu(tmp)\n",
    "        tmp = self.fc3(tmp)\n",
    "        \n",
    "        #---end---------------------\n",
    "        return tmp\n",
    "\n",
    "net = LeNet()"
   ]
  },
  {
   "cell_type": "code",
   "execution_count": 14,
   "id": "05e97a9a-6357-4f9e-9c00-34034ebe6515",
   "metadata": {},
   "outputs": [
    {
     "name": "stdout",
     "output_type": "stream",
     "text": [
      "937\n"
     ]
    }
   ],
   "source": [
    "import torchvision\n",
    "import time\n",
    "\n",
    "test_loader = torch.utils.data.DataLoader(torchvision.datasets.MNIST('.', train=False, download=True, transform=torchvision.transforms.Compose([\n",
    "                                                torchvision.transforms.ToTensor(), torchvision.transforms.Normalize(\n",
    "                                                (0.1307, ), (0.3081)) ])), batch_size=64, shuffle=False, drop_last=True)\n",
    "\n",
    "train_loader = torch.utils.data.DataLoader(torchvision.datasets.MNIST('.', train=True, download=True, transform=torchvision.transforms.Compose([\n",
    "                                                torchvision.transforms.ToTensor(), torchvision.transforms.Normalize(\n",
    "                                                (0.1307, ), (0.3081)) ])), batch_size=64, shuffle=False, drop_last=True)\n",
    "\n",
    "print(len(train_loader))"
   ]
  },
  {
   "cell_type": "code",
   "execution_count": 15,
   "id": "novel-singles",
   "metadata": {},
   "outputs": [],
   "source": [
    "def correct_predictions(outputs, targets):\n",
    "    correct_predictions = 0\n",
    "    #---to-be-done-by-student---\n",
    "    _, predicted = torch.max(outputs, 1)\n",
    "    correct_predictions = (predicted == targets).sum().item()\n",
    "    #---end---------------------\n",
    "    return correct_predictions"
   ]
  },
  {
   "cell_type": "code",
   "execution_count": 23,
   "id": "rental-resident",
   "metadata": {},
   "outputs": [],
   "source": [
    "def test_net(net, device):\n",
    "    #---to-be-done-by-student---\n",
    "    net.eval()  # set the network to evaluation mode\n",
    "    correct_detected = 0\n",
    "    overall = 0\n",
    "    \n",
    "    with torch.no_grad():  # disable gradient calculation during inference\n",
    "        for idx, (inputs, targets) in enumerate(test_loader):\n",
    "            inputs, targets = inputs.to(device), targets.to(device)\n",
    "            outputs = net(inputs)\n",
    "            correct_detected += correct_predictions(outputs, targets)\n",
    "            overall += targets.size(0)\n",
    "        \n",
    "            \n",
    "    #---end---------------------\n",
    "    print(overall)\n",
    "    return float(correct_detected/overall)"
   ]
  },
  {
   "cell_type": "markdown",
   "id": "industrial-scout",
   "metadata": {},
   "source": [
    "Now that we have these two helper functions we come to training the network. Some parts are already given. You can do the training either on the cpu or on the gpu (gpu should be faster).\n",
    "\n",
    "First we define an optimizer `optimizer = torch.optim.SGD(net.parameters(), lr=0.01)` and hand in the model's parameters (e.g., weights and biases of the conv and linear layers). Besides the model's parameters, we set the learning rate to 0.01. The learning defines the step size for updating the parameters based on their gradients.\n",
    "\n",
    "Also, we require a loss function `loss_function = nn.CrossEntropyLoss()`, which defines the error (loss) between the output of the network and the desired output target.\n",
    "To train the network we iterate over the dataset several times (for 5 epochs).\n",
    "\n",
    "We can split the training into five parts (for each training batch):   \n",
    "<span style=\"color:green\">Your Tasks:</span>   \n",
    "* <span style=\"color:green\">**Clean old gradients**: Remove the previous gradients of the parameters by calling `optimizer.zero_grad()`.</span>   \n",
    "* <span style=\"color:green\">**Forward Pass**: Similar to the previous inference experiments, \n",
    "    calculate the network's output.</span>   \n",
    "* <span style=\"color:green\">**Loss**: Calculate the loss by using `loss_function(outputs, targets)`.</span>   \n",
    "* <span style=\"color:green\">**Backpropagation of the error**: Call `.backward()` on the loss tensor and Pytorch will automatically calculate the respective gradients of the modules with respect to the input and parameters.</span>\n",
    "* <span style=\"color:green\">**Step**: As the last step, modify the parameters based on their gradients by calling `optimizer.step()`.</span>\n",
    "\n",
    "Plotting the accuracy and loss of the model:\n",
    "\n",
    "<span style=\"color:green\">Your Tasks:</span> \n",
    "* <span style=\"color:green\">Collect the network's loss for each batch.\n",
    "* <span style=\"color:green\">After every 100 batches calculate the networks average_loss (of last 100 batches).</span>\n",
    "* <span style=\"color:green\">Similar, calculate the models accuracy using using your defined `test_net` function.</span>\n",
    "* <span style=\"color:green\">Append the average loss and the accuracy to `loss_list` and `acc_list`, respectively.</span>"
   ]
  },
  {
   "cell_type": "code",
   "execution_count": 20,
   "id": "15aea393-c5f3-4f84-b952-3334fdc566f9",
   "metadata": {
    "tags": []
   },
   "outputs": [
    {
     "name": "stdout",
     "output_type": "stream",
     "text": [
      "Epoch [1/5], Batch [101/937], Loss: 2.3046, Test Accuracy: 0.2964\n",
      "Epoch [1/5], Batch [201/937], Loss: 2.1803, Test Accuracy: 0.5186\n",
      "Epoch [1/5], Batch [301/937], Loss: 1.6100, Test Accuracy: 0.6887\n",
      "Epoch [1/5], Batch [401/937], Loss: 0.7778, Test Accuracy: 0.7855\n",
      "Epoch [1/5], Batch [501/937], Loss: 0.5867, Test Accuracy: 0.8625\n",
      "Epoch [1/5], Batch [601/937], Loss: 0.4618, Test Accuracy: 0.8908\n",
      "Epoch [1/5], Batch [701/937], Loss: 0.4252, Test Accuracy: 0.8784\n",
      "Epoch [1/5], Batch [801/937], Loss: 0.3842, Test Accuracy: 0.8884\n",
      "Epoch [1/5], Batch [901/937], Loss: 0.3227, Test Accuracy: 0.9106\n",
      "Epoch [2/5], Batch [101/937], Loss: 0.3922, Test Accuracy: 0.8972\n",
      "Epoch [2/5], Batch [201/937], Loss: 0.3066, Test Accuracy: 0.9222\n",
      "Epoch [2/5], Batch [301/937], Loss: 0.2842, Test Accuracy: 0.8970\n",
      "Epoch [2/5], Batch [401/937], Loss: 0.2427, Test Accuracy: 0.9310\n",
      "Epoch [2/5], Batch [501/937], Loss: 0.2510, Test Accuracy: 0.9366\n",
      "Epoch [2/5], Batch [601/937], Loss: 0.2092, Test Accuracy: 0.9417\n",
      "Epoch [2/5], Batch [701/937], Loss: 0.2125, Test Accuracy: 0.9403\n",
      "Epoch [2/5], Batch [801/937], Loss: 0.2095, Test Accuracy: 0.9363\n",
      "Epoch [2/5], Batch [901/937], Loss: 0.1692, Test Accuracy: 0.9519\n",
      "Epoch [3/5], Batch [101/937], Loss: 0.2111, Test Accuracy: 0.9363\n",
      "Epoch [3/5], Batch [201/937], Loss: 0.1829, Test Accuracy: 0.9533\n",
      "Epoch [3/5], Batch [301/937], Loss: 0.1631, Test Accuracy: 0.9444\n",
      "Epoch [3/5], Batch [401/937], Loss: 0.1448, Test Accuracy: 0.9569\n",
      "Epoch [3/5], Batch [501/937], Loss: 0.1568, Test Accuracy: 0.9593\n",
      "Epoch [3/5], Batch [601/937], Loss: 0.1303, Test Accuracy: 0.9615\n",
      "Epoch [3/5], Batch [701/937], Loss: 0.1354, Test Accuracy: 0.9621\n",
      "Epoch [3/5], Batch [801/937], Loss: 0.1451, Test Accuracy: 0.9551\n",
      "Epoch [3/5], Batch [901/937], Loss: 0.1155, Test Accuracy: 0.9653\n",
      "Epoch [4/5], Batch [101/937], Loss: 0.1479, Test Accuracy: 0.9568\n",
      "Epoch [4/5], Batch [201/937], Loss: 0.1321, Test Accuracy: 0.9671\n",
      "Epoch [4/5], Batch [301/937], Loss: 0.1145, Test Accuracy: 0.9635\n",
      "Epoch [4/5], Batch [401/937], Loss: 0.1057, Test Accuracy: 0.9663\n",
      "Epoch [4/5], Batch [501/937], Loss: 0.1180, Test Accuracy: 0.9676\n",
      "Epoch [4/5], Batch [601/937], Loss: 0.0992, Test Accuracy: 0.9704\n",
      "Epoch [4/5], Batch [701/937], Loss: 0.1050, Test Accuracy: 0.9700\n",
      "Epoch [4/5], Batch [801/937], Loss: 0.1171, Test Accuracy: 0.9655\n",
      "Epoch [4/5], Batch [901/937], Loss: 0.0920, Test Accuracy: 0.9697\n",
      "Epoch [5/5], Batch [101/937], Loss: 0.1202, Test Accuracy: 0.9630\n",
      "Epoch [5/5], Batch [201/937], Loss: 0.1078, Test Accuracy: 0.9714\n",
      "Epoch [5/5], Batch [301/937], Loss: 0.0923, Test Accuracy: 0.9690\n",
      "Epoch [5/5], Batch [401/937], Loss: 0.0855, Test Accuracy: 0.9718\n",
      "Epoch [5/5], Batch [501/937], Loss: 0.0972, Test Accuracy: 0.9726\n",
      "Epoch [5/5], Batch [601/937], Loss: 0.0836, Test Accuracy: 0.9735\n",
      "Epoch [5/5], Batch [701/937], Loss: 0.0894, Test Accuracy: 0.9736\n",
      "Epoch [5/5], Batch [801/937], Loss: 0.1009, Test Accuracy: 0.9696\n",
      "Epoch [5/5], Batch [901/937], Loss: 0.0793, Test Accuracy: 0.9730\n"
     ]
    }
   ],
   "source": [
    "n_epochs = 5\n",
    "loss_list = []\n",
    "acc_list = []\n",
    "\n",
    "net = LeNet()\n",
    "device = torch.device('cuda')\n",
    "\n",
    "optimizer = torch.optim.SGD(net.parameters(), lr=0.01)\n",
    "#optimizer = torch.optim.Adam(net.parameters(), lr=0.1)\n",
    "loss_function = nn.CrossEntropyLoss()\n",
    "net.to(device)\n",
    "#---to-be-done-by-student---\n",
    "loss_sum = 0.0\n",
    "#---end---------------------\n",
    "\n",
    "for epoch_n in range(n_epochs):\n",
    "    for batch_idx, (inputs, targets) in enumerate(train_loader):\n",
    "        \n",
    "        #---to-be-done-by-student---\n",
    "        \n",
    "        optimizer.zero_grad()\n",
    "        inputs = inputs.to(device)\n",
    "        targets = targets.to(device)\n",
    "        outputs = net(inputs)\n",
    "        loss = loss_function(outputs, targets)\n",
    "        loss.backward()\n",
    "        optimizer.step()\n",
    "        loss_sum += loss.item()\n",
    "        #---end---------------------\n",
    "        if batch_idx % 100 == 0 and batch_idx != 0:\n",
    "            \n",
    "            #---to-be-done-by-student---\n",
    "            average_loss = loss_sum/100\n",
    "            test_accuracy = test_net(net, device)\n",
    "            loss_list.append(average_loss)\n",
    "            acc_list.append(test_accuracy)\n",
    "            print(f\"Epoch [{epoch_n + 1}/{n_epochs}], Batch [{batch_idx + 1}/{len(train_loader)}], Loss: {average_loss:.4f}, Test Accuracy: {test_accuracy:.4f}\")\n",
    "            loss_sum = 0.0\n",
    "            \n",
    "            #---end---------------------"
   ]
  },
  {
   "cell_type": "code",
   "execution_count": 21,
   "id": "armed-counter",
   "metadata": {},
   "outputs": [
    {
     "data": {
      "text/plain": [
       "Text(0.5, 1.0, 'LeNet training')"
      ]
     },
     "execution_count": 21,
     "metadata": {},
     "output_type": "execute_result"
    },
    {
     "data": {
      "image/png": "[encoded data removed]",
      "text/plain": [
       "<Figure size 720x360 with 2 Axes>"
      ]
     },
     "metadata": {
      "needs_background": "light"
     },
     "output_type": "display_data"
    }
   ],
   "source": [
    "import matplotlib.pyplot as plt\n",
    "import numpy as np\n",
    "\n",
    "plt.rcParams['figure.figsize'] = [10, 5]\n",
    "\n",
    "fig, ax = plt.subplots(1)\n",
    "\n",
    "ax.plot(np.array(acc_list), color='tab:blue')\n",
    "ax.set_xlabel('mini-batch steps (100)')\n",
    "ax.set_ylabel('LeNet accuracy')\n",
    "ax.tick_params(colors='tab:blue', axis='y')\n",
    "\n",
    "ax2 = ax.twinx()\n",
    "ax2.plot(np.array(loss_list), color='tab:red')\n",
    "ax2.set_ylabel('LeNet loss')\n",
    "ax2.tick_params(colors='tab:red', axis='y')\n",
    "ax.set_title('LeNet training')"
   ]
  },
  {
   "cell_type": "markdown",
   "id": "dental-lounge",
   "metadata": {},
   "source": [
    "You can save your training state by using `state_dict = net.state_dict()` and `torch.save(state_dict, 'lenet_new.pt')`\n",
    "\n",
    "<span style=\"color:green\">Your Task:</span>   \n",
    "* <span style=\"color:green\">Save the state dict of the model with a new name and plug it into exercise 01 by changing the file name in Cell 9</span>"
   ]
  },
  {
   "cell_type": "code",
   "execution_count": 24,
   "id": "cosmetic-router",
   "metadata": {},
   "outputs": [],
   "source": [
    "#save model here\n",
    "#---to-be-done-by-student---\n",
    "state_dict = net.state_dict()\n",
    "torch.save(state_dict, 'lenet_new.pt')\n",
    "#---end---------------------"
   ]
  },
  {
   "cell_type": "code",
   "execution_count": null,
   "id": "f885397c-f3f0-42f7-ae3e-ad0de73e3852",
   "metadata": {},
   "outputs": [],
   "source": []
  }
 ],
 "metadata": {
  "kernelspec": {
   "display_name": "Python 3",
   "language": "python",
   "name": "python3"
  },
  "language_info": {
   "codemirror_mode": {
    "name": "ipython",
    "version": 3
   },
   "file_extension": ".py",
   "mimetype": "text/x-python",
   "name": "python",
   "nbconvert_exporter": "python",
   "pygments_lexer": "ipython3",
   "version": "3.6.9"
  }
 },
 "nbformat": 4,
 "nbformat_minor": 5
}
