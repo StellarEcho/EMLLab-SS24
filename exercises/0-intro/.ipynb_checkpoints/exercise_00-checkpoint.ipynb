{
 "cells": [
  {
   "cell_type": "markdown",
   "id": "5414047f-c2e5-4b51-a4bf-7b6b9c562a19",
   "metadata": {
    "tags": []
   },
   "source": [
    "# Embedded ML Lab - Excercise 0 - Intro Pytorch\n",
    "\n",
    "* Documentation Pytorch: https://pytorch.org/docs/stable/index.html\n",
    "* Documentation Matplotlib: https://matplotlib.org/stable/contents.html\n",
    "\n",
    "### Tensor basics\n",
    "`PyTorch` uses _pytorch_ _tensors_ to store N-dimensional data similar to NumPy or Matlab. Torch tensors support a variety of matrix or vector operations."
   ]
  },
  {
   "cell_type": "code",
   "execution_count": null,
   "id": "32ca05e2-f9c9-4703-b923-28f02bb337f7",
   "metadata": {
    "tags": []
   },
   "outputs": [],
   "source": [
    "import torch\n",
    "import torch\n",
    "torch.rand(1).to('cuda') #initialize cuda context (might take a while)\n",
    "x = torch.tensor([5,3]) #create variable\n",
    "y = torch.tensor([3,3])\n",
    "\n",
    "z = x * y #point-wise multiplication of two variables \n",
    "print(z)"
   ]
  },
  {
   "cell_type": "markdown",
   "id": "91e9f788-ce37-4a53-a1e1-aa8fd34db305",
   "metadata": {},
   "source": [
    "Also, there are several methods to initialize tensors like `torch.ones / torch.zeros / torch.randn`   \n",
    "We can get the shape of a tensor by calling `size` on a tensor"
   ]
  },
  {
   "cell_type": "code",
   "execution_count": null,
   "id": "1b85c810-8ee9-4fbc-b520-47ba10a65a6f",
   "metadata": {},
   "outputs": [],
   "source": [
    "ones = torch.ones((10,10,5)) # creates a 3-dimensional tensor with ones with size [10,10,5]\n",
    "rand = torch.randn((4,4)) # creates an 2-dimensional random tensor with size [4,4]\n",
    "\n",
    "print(ones.size()) # returns a python list with dimension"
   ]
  },
  {
   "cell_type": "markdown",
   "id": "f828aaec-cb84-4b16-a527-3902bc9f8a15",
   "metadata": {},
   "source": [
    "Pytorch tensors can also have different datatypes"
   ]
  },
  {
   "cell_type": "code",
   "execution_count": null,
   "id": "d291bc8a-3c07-4d84-b226-e890f923290a",
   "metadata": {},
   "outputs": [],
   "source": [
    "torch.ones((10,10), dtype=torch.int) #inits a tensor with ones as int\n",
    "torch.ones((10,10), dtype=torch.float) #inits a tensor with ones as float (standard)"
   ]
  },
  {
   "cell_type": "markdown",
   "id": "b7c838ef-d685-4021-b9bb-6fd50b6352b0",
   "metadata": {},
   "source": [
    "Similar to NumPy or Matlab we can also slice tensors with indices (NumPy Indexing: https://numpy.org/doc/stable/reference/arrays.indexing.html)   \n",
    "Slicing is equivalent to a torch.view. As the name suggests, this does not change the underlying storage or create a copy, meaning if we change the data, all associated views also show the changes."
   ]
  },
  {
   "cell_type": "code",
   "execution_count": null,
   "id": "abff0483-bd54-4218-9c6d-cd2cc4660ee5",
   "metadata": {
    "tags": []
   },
   "outputs": [],
   "source": [
    "ones = torch.ones((10,10,5)) # creates a 3-dimensional tensor with ones with size [10,10,5]\n",
    "a = ones[0:5,0,0] # we create a view by slicing out index 0,1,2,3,4 from the first dimension and use : to slice all indices for dimension 2 and 3\n",
    "print(f\"Size of a: {a.size()}\")\n",
    "\n",
    "ones[0:5,:,:] = 3.14 \n",
    "print(a)\n",
    "b = ones.clone()[0:5,0,0] #cloning a tensor creates an independent copy\n",
    "ones[0:5,:,:] = 7.11\n",
    "print(b)\n",
    "print(a)"
   ]
  },
  {
   "cell_type": "markdown",
   "id": "41fdf1fa-61a6-47b4-b613-344f6249c42d",
   "metadata": {},
   "source": [
    "Other usefull tensor operations are `flatten()`, `sum()`, `max()`, `min()`."
   ]
  },
  {
   "cell_type": "code",
   "execution_count": null,
   "id": "13c264c0-3ce1-418b-b626-643af4bcd679",
   "metadata": {},
   "outputs": [],
   "source": [
    "a = torch.ones((10,10,10))\n",
    "a_flattened = a.flatten()\n",
    "print(f\"Shape of a: {a.size()}, Shape of a_flattened: {a_flattened.size()}\")\n",
    "sum_of_a = a.sum(dim=(0,1)) # sum of dimens 0 and 1 \n",
    "print(f\"Sum: {sum_of_a}\")\n",
    "sum_of_a = a.sum(dim=(0,1,2)) #sum_of_all_entries\n",
    "print(f\"Sum: {sum_of_a}\")"
   ]
  },
  {
   "cell_type": "markdown",
   "id": "6b3d3890-8d52-4c95-a500-2780fae86f40",
   "metadata": {},
   "source": [
    "A very special property of pytorch tensors is that they can be pushed to a device (a GPU) and operations can be done on a GPU. This can speedup operations dramatically, if the required operations are parallelizable.    \n",
    "We therefore first check if pytorch can reach the Jetsons' GPU."
   ]
  },
  {
   "cell_type": "code",
   "execution_count": null,
   "id": "11d2bb31-e22d-4cf1-99f2-98bf17f0616e",
   "metadata": {},
   "outputs": [],
   "source": [
    "import time\n",
    "print(f'CUDA available:        {[\"no\", \"yes\"][torch.cuda.is_available()]}')\n",
    "\n",
    "a = torch.zeros((10**4, 10**4))\n",
    "b = torch.zeros((10**4, 10**4))\n",
    "\n",
    "def f(device, n, k):\n",
    "    x = torch.randn(n, n, dtype=torch.float32, device=device)\n",
    "    for _ in range(k):\n",
    "        x = torch.matmul(x, x)\n",
    "        x = (x - x.mean()) / x.std()\n",
    "    return x.max()\n",
    "\n",
    "n = 256\n",
    "k = 100\n",
    "\n",
    "%timeit -n 1 -r 1 print(f('cpu',  n, k))\n",
    "%timeit -n 1 -r 1 print(f('cuda', n, k))\n",
    "%timeit -n 1 -r 1 print(f('cpu',  4*n, k))\n",
    "%timeit -n 1 -r 1 print(f('cuda', 4*n, k))"
   ]
  },
  {
   "cell_type": "markdown",
   "id": "4092e33d-77d9-4203-8546-3af85181e4e9",
   "metadata": {
    "tags": []
   },
   "source": [
    "PyTorch tensors (data/nn-weights) can also be stored and loaded from disk.   \n",
    "We load a sample from the MNIST dataset, which is stored as \"mnist_sample.pt\" on the disk.\n",
    "The MNIST Dataset consists of images of handwritten grayscale images with digits from `0-9`\n",
    "* This can be done by using `torch.load(\"filename\")`. Similarly, we can store tensors`toch.store(tensor, \"filename\")`."
   ]
  },
  {
   "cell_type": "code",
   "execution_count": null,
   "id": "4df9bb5b-40c2-49d5-aaf6-4a3aa046d4ca",
   "metadata": {
    "tags": []
   },
   "outputs": [],
   "source": [
    "mnist_sample = torch.load(\"mnist_sample.pt\") #this loads a 28 by 28 pixel image from the MNSIT dataset\n",
    "print(mnist_sample.size())"
   ]
  },
  {
   "cell_type": "code",
   "execution_count": null,
   "id": "43b7dd30-19b3-492f-bdc0-20d93cfa17b6",
   "metadata": {},
   "outputs": [],
   "source": [
    "import matplotlib.pyplot as plt\n",
    "plt.imshow(mnist_sample[:,:], cmap='gray', interpolation='none')"
   ]
  },
  {
   "cell_type": "markdown",
   "id": "805918da-ca53-4b07-8eb8-fdcd9b100f24",
   "metadata": {},
   "source": [
    "### Pytorch Modules\n",
    "\n",
    "PyTorch modules are the base classes of neural netorks in PyTorch. All modules we define should inherit from `torch.nn.Module`. Modules can also contain other Modules, allowing nesting.    \n",
    "A tensor can be defined as a `Parameter` of a module.\n",
    "Every module has a forward path defined. We add the paramter to our input and return the sum."
   ]
  },
  {
   "cell_type": "code",
   "execution_count": null,
   "id": "e556d26d-bd10-4c01-a81b-3c317cc2349f",
   "metadata": {},
   "outputs": [],
   "source": [
    "import torch.nn as nn\n",
    "\n",
    "class AddConstant(nn.Module):\n",
    "    def __init__(self):\n",
    "        super(AddConstant, self).__init__()\n",
    "        self.add_value = nn.parameter.Parameter(torch.tensor(5), requires_grad=False)\n",
    "        \n",
    "    def forward(self, x):\n",
    "        y = x + self.add_value\n",
    "        return y\n",
    "    \n",
    "addc = AddConstant() #we create a new addValue istance"
   ]
  },
  {
   "cell_type": "markdown",
   "id": "0339d4c7-12d9-4cc9-ad46-844be03ddbcf",
   "metadata": {},
   "source": [
    "Our AddValue module has several inherited functionality\n",
    "* The forward pass can be called by either using the call function `addv(5)` or by directly calling the forward function `addv.forward(5)`."
   ]
  },
  {
   "cell_type": "code",
   "execution_count": null,
   "id": "4fce9610-341e-407e-85c8-f11f19840ae4",
   "metadata": {},
   "outputs": [],
   "source": [
    "y = addc(5)\n",
    "y = addc.forward(5)\n",
    "print(f\"Result: {y}\")\n",
    "print(list(addc.named_parameters()))"
   ]
  },
  {
   "cell_type": "markdown",
   "id": "3e7c17ea-f386-4d07-bbf7-63c550e2aae9",
   "metadata": {},
   "source": [
    "We can load and set so-called 'state_dicts' from modules, containing all parameters (a.k.a NN weights).\n"
   ]
  },
  {
   "cell_type": "code",
   "execution_count": null,
   "id": "0bdf7db1-b7bf-40a4-ac48-48e42b0d4d42",
   "metadata": {},
   "outputs": [],
   "source": [
    "state_dict = addc.state_dict()\n",
    "print(state_dict)\n",
    "state_dict['add_value'] = torch.tensor(4)\n",
    "addc.load_state_dict(state_dict)\n",
    "print(f\"Result: {addc.forward(5)}\")"
   ]
  },
  {
   "cell_type": "markdown",
   "id": "5d73ac87-508b-44cb-b8de-100a9a3c5b79",
   "metadata": {},
   "source": [
    "Modules can also be pushed to the GPU for calculation."
   ]
  },
  {
   "cell_type": "code",
   "execution_count": null,
   "id": "ee84a7a3-cc48-4b0d-8bd7-d3df2303d862",
   "metadata": {
    "tags": []
   },
   "outputs": [],
   "source": [
    "addc.to('cpu')\n",
    "y = addc(torch.tensor(5, device='cpu'))"
   ]
  },
  {
   "cell_type": "markdown",
   "id": "aed02c67-2c53-4953-987d-bd83da9586ec",
   "metadata": {},
   "source": [
    "Functions that do not have parameters can be found in `torch.nn.functional`."
   ]
  },
  {
   "cell_type": "code",
   "execution_count": null,
   "id": "e9d47d08-adf6-4bb2-ad9a-6db76b4e928e",
   "metadata": {},
   "outputs": [],
   "source": [
    "import torch.nn.functional as F\n",
    "\n",
    "result = F.relu(torch.ones(1))\n",
    "result = F.max_pool2d(torch.ones((10,10,10)), kernel_size=2)"
   ]
  }
 ],
 "metadata": {
  "kernelspec": {
   "display_name": "Python 3",
   "language": "python",
   "name": "python3"
  },
  "language_info": {
   "codemirror_mode": {
    "name": "ipython",
    "version": 3
   },
   "file_extension": ".py",
   "mimetype": "text/x-python",
   "name": "python",
   "nbconvert_exporter": "python",
   "pygments_lexer": "ipython3",
   "version": "3.8.10"
  }
 },
 "nbformat": 4,
 "nbformat_minor": 5
}
