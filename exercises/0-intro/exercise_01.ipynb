{
 "cells": [
  {
   "cell_type": "markdown",
   "id": "d8909361-4d07-4331-a587-be85e32a3823",
   "metadata": {
    "tags": []
   },
   "source": [
    "# Embedded ML Lab - Excercise 0 - Intro Inference\n"
   ]
  },
  {
   "cell_type": "markdown",
   "id": "2265b134-4819-4b6a-902e-9562836b055d",
   "metadata": {
    "tags": []
   },
   "source": [
    "We start with a NN model similar to the LeNet model from 1989 (https://en.wikipedia.org/wiki/LeNet). The LeNet Model is designed to detect handwritten numbers from the MNIST dataset http://yann.lecun.com/exdb/mnist/with size 28x28 and outputs a vector with size 10, where each number in this vector represents the likelihood that the input corresponds to that number. All Conv layers have `stride=1` `padding=0`.\n",
    "\n",
    "<img src=\"src/lenet.png\" alt=\"drawing\" width=\"600\"/>\n",
    "\n",
    "<span style=\"color:green\">Your Tasks:</span>\n",
    "* <span style=\"color:green\">Write the init code for the required modules to define LeNet  (Use the provided image to determine the number of input/ouput filters and kernel sizes)</span>\n",
    "    * <span style=\"color:green\">Determine the output size of conv2 to determine the input size of fc1</span>\n",
    "    * The size of the output conv2d layer can be determined with the following formula $H_{\\text{out}} = \\lfloor{ \\frac{H_{\\text{in}} + 2 \\times \\text{padding} - 1 \\times ( \\text{kernelsize} -1 ) -1 } {\\text{stride}} +1}\\rfloor$\n",
    "    * Here, maxpool2d with kernel size 2 reduces the input size by factor two: $H_{\\text{out}} = \\lfloor \\frac{H_{\\text{in}}}{2}\\rfloor$\n",
    "    * <span style=\"color:green\">Use following modules: `nn.Conv2d, nn.Linear`</span>\n",
    "* <span style=\"color:green\">Define the forward pass of LeNet, check the provided image for the flow of data through the modules and functions</span>\n",
    "    * <span style=\"color:green\">Use the following functions: `F.relu, F.max_pool2d, tensor.flatten`</span>"
   ]
  },
  {
   "cell_type": "code",
   "execution_count": 1,
   "id": "guided-recognition",
   "metadata": {},
   "outputs": [],
   "source": [
    "import torch\n",
    "torch.rand(1).to('cuda') #initialize cuda context (might take a while)\n",
    "import torch.nn as nn\n",
    "import torch.nn.functional as F"
   ]
  },
  {
   "cell_type": "code",
   "execution_count": 2,
   "id": "34cea594-90eb-4a07-b390-b3f332e7869c",
   "metadata": {},
   "outputs": [],
   "source": [
    "class LeNet(nn.Module):\n",
    "    def __init__(self):\n",
    "        super(LeNet, self).__init__()\n",
    "        \n",
    "        #---to-be-done-by-student---\n",
    "        self.conv1 = nn.Conv2d(1, 6, 3)\n",
    "        self.conv2 = nn.Conv2d(6, 16, 3)\n",
    "        self.fc1 = nn.Linear(400,120)\n",
    "        self.fc2 = nn.Linear(120,84)\n",
    "        self.fc3 = nn.Linear(84,10)   \n",
    "        #---end---------------------\n",
    "        return\n",
    "    \n",
    "    def forward(self,x):\n",
    "        #---to-be-done-by-student---\n",
    "        tmp = self.conv1(x)\n",
    "        tmp = F.relu(tmp)\n",
    "        tmp = F.max_pool2d(tmp,2)\n",
    "        tmp = self.conv2(tmp)\n",
    "        tmp = F.relu(tmp)\n",
    "        tmp = F.max_pool2d(tmp,2)\n",
    "        tmp = tmp.flatten(start_dim=1) #passt jetzt\n",
    "        tmp = self.fc1(tmp)\n",
    "        tmp = F.relu(tmp)\n",
    "        tmp = self.fc2(tmp)\n",
    "        tmp = F.relu(tmp)\n",
    "        tmp = self.fc3(tmp)\n",
    "        \n",
    "        #---end---------------------\n",
    "        return tmp"
   ]
  },
  {
   "cell_type": "markdown",
   "id": "759ee961-4e90-498c-a316-398ec85057f4",
   "metadata": {
    "tags": []
   },
   "source": [
    "We can now create a new model instance"
   ]
  },
  {
   "cell_type": "code",
   "execution_count": 3,
   "id": "13b45f83-8084-4cd9-8aa1-09ec8b83445f",
   "metadata": {},
   "outputs": [],
   "source": [
    "net = LeNet()"
   ]
  },
  {
   "cell_type": "markdown",
   "id": "4535a390-bb2f-4695-a4e2-f7c6253ac0e0",
   "metadata": {},
   "source": [
    "We now load the state dict with the filename `lenet.pt` into the model. These weights are already pretrained and should have a high accuracy when detecting MNIST images. Afterwards, we check if the network is able to detect our stored sample.\n",
    "\n",
    "<span style=\"color:green\">Your Task:</span>\n",
    "* <span style=\"color:green\">Load the state_dict `lenet.pt` from disk and load the state dict into the LeNet instance</span>\n",
    "* <span style=\"color:green\">Calculate the output of the network when feeding in the image</span>\n",
    "    * Load the image from disk (`mnist_sample.pt`) into a tensor \n",
    "    * Note that you need to expand the dimensions of the tensor, since the network expects an input with size $N \\times 1 \\times 28 \\times 28$ but the image is size $ 28 \\times 28$. You can create two dimensions by using a slice with **[None, None, :, :]**\n",
    "    * Check if the image is detected correctly. The output with the highest value corresponds to the estimated class (you can use `torch.argmax`)"
   ]
  },
  {
   "cell_type": "code",
   "execution_count": 4,
   "id": "a0244c61-aea6-4425-92e2-6aa0972423a7",
   "metadata": {
    "tags": []
   },
   "outputs": [
    {
     "name": "stdout",
     "output_type": "stream",
     "text": [
      "torch.Size([1, 1, 28, 28])\n"
     ]
    },
    {
     "data": {
      "text/plain": [
       "tensor(6)"
      ]
     },
     "execution_count": 4,
     "metadata": {},
     "output_type": "execute_result"
    }
   ],
   "source": [
    "#---to-be-done-by-student---\n",
    "net.load_state_dict(torch.load('./lenet.pt'))\n",
    "image = torch.load('./mnist_sample.pt')\n",
    "image = image[None,None,:,:]\n",
    "print(image.shape)\n",
    "torch.argmax(net(image))\n",
    "#---end---------------------"
   ]
  },
  {
   "cell_type": "markdown",
   "id": "b84fa4c3-0e1a-4264-8fd2-f550ebed730b",
   "metadata": {},
   "source": [
    "Next, we want to determine the accuracy of the network using the full MNIST test data. Additionally, we want to measure the execution time for the network on the CPU as well as on the GPU.\n",
    "\n",
    "* We first load the complete MNIST testset (10.000 Images), and zero-center and scale it.\n",
    "* We create a DataLoader, which can be iterated with enumerate and returns the data in chunks of 64, so-called batches. The resulting tensor is of size $64 \\times 1 \\times 28 \\times 28$.\n",
    "* The target tensor is of size $64$ where for each image the tensor entry is the correct label number (e.g. image shows a `inputs[8, :, :, :]` shows a two, the corresponding value in the target tensor `targets[8]` is 2.\n",
    "\n",
    "<span style=\"color:green\">Your Task:</span>\n",
    "* <span style=\"color:green\">For every batch load the data into the network.</span>\n",
    "* <span style=\"color:green\">Calculate the overall accuracy (ratio of correctly deteced images to all images).</span>\n",
    "* <span style=\"color:green\">Calculate the overall execution time (forward pass) of the network on the cpu as well as on the gpu.</span>\n",
    "    * <span style=\"color:green\">For GPU calculations you have to load the network as well as the input to the GPU and bring the result back to the CPU for your accuracy calculations.</span>"
   ]
  },
  {
   "cell_type": "code",
   "execution_count": 5,
   "id": "d1db2c7e-24c9-4511-9557-cccbb208a495",
   "metadata": {},
   "outputs": [
    {
     "name": "stdout",
     "output_type": "stream",
     "text": [
      "Number of test images: 10000\n",
      "Number of batches: 157\n",
      "Batch shape: torch.Size([64, 1, 28, 28])\n",
      "Target (Labels): tensor([7, 2, 1, 0, 4, 1, 4, 9, 5, 9, 0, 6, 9, 0, 1])\n"
     ]
    }
   ],
   "source": [
    "import torchvision\n",
    "import time\n",
    "\n",
    "test_data = torchvision.datasets.MNIST('.', train=False, download=True, transform=torchvision.transforms.Compose([\n",
    "                                                torchvision.transforms.ToTensor(), torchvision.transforms.Normalize(\n",
    "                                                (0.1307, ), (0.3081)) ]))\n",
    "\n",
    "test_loader = torch.utils.data.DataLoader(test_data, batch_size=64, shuffle=False)\n",
    "print(f\"Number of test images: {len(test_data)}\")\n",
    "print(f\"Number of batches: {len(test_loader)}\")\n",
    "_, (inputs, targets) = next(enumerate(test_loader))\n",
    "print(f\"Batch shape: {inputs.size()}\")\n",
    "print(f\"Target (Labels): {targets[0:15]}\")"
   ]
  },
  {
   "cell_type": "code",
   "execution_count": 6,
   "id": "5e157640-fa0e-4529-9928-1b6b70c42c21",
   "metadata": {},
   "outputs": [
    {
     "name": "stdout",
     "output_type": "stream",
     "text": [
      "(cpu) LenNet Accuracy is: 97.43%\n",
      "(cpu) Total time for forward pass: 139.6275s\n",
      "(cuda) LenNet Accuracy is: 97.43%\n",
      "(cuda) Total time for forward pass: 82.4323s\n"
     ]
    }
   ],
   "source": [
    "for dev in ['cpu','cuda']:\n",
    "    device = torch.device(dev)\n",
    "    correct_detected = 0\n",
    "    accuracy = 0\n",
    "    total_time = 0.0\n",
    "    s = time.time()\n",
    "    net.to(device)\n",
    "    net.eval()\n",
    "    for batch_idx, (inputs, targets) in enumerate(test_loader):\n",
    "        #---to-be-done-by-student---\n",
    "        targets = targets.to(device)\n",
    "        inputs = inputs.to(device)\n",
    "        pred = net(inputs)\n",
    "        pred_class = pred.argmax(dim=1)\n",
    "        correct_detected+=(pred_class==targets).count_nonzero()\n",
    "        #---end---------------------      \n",
    "\n",
    "    accuracy = correct_detected/len(test_data)\n",
    "    print(f'({dev}) LenNet Accuracy is: {accuracy:.2%}')\n",
    "    print(f'({dev}) Total time for forward pass: {round(time.time() - s, 4)}s')"
   ]
  },
  {
   "cell_type": "code",
   "execution_count": null,
   "id": "5ef46004-fc44-4ecd-a37a-0a2f34712ddd",
   "metadata": {},
   "outputs": [],
   "source": []
  },
  {
   "cell_type": "code",
   "execution_count": null,
   "id": "a1a41c41-a039-4a1d-ba15-5985a6b4cf10",
   "metadata": {},
   "outputs": [],
   "source": []
  }
 ],
 "metadata": {
  "kernelspec": {
   "display_name": "Python 3",
   "language": "python",
   "name": "python3"
  },
  "language_info": {
   "codemirror_mode": {
    "name": "ipython",
    "version": 3
   },
   "file_extension": ".py",
   "mimetype": "text/x-python",
   "name": "python",
   "nbconvert_exporter": "python",
   "pygments_lexer": "ipython3",
   "version": "3.6.9"
  }
 },
 "nbformat": 4,
 "nbformat_minor": 5
}
