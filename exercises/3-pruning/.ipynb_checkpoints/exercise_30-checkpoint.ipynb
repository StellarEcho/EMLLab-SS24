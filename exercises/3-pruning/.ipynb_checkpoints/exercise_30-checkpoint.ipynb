{
 "cells": [
  {
   "cell_type": "markdown",
   "id": "banner-elizabeth",
   "metadata": {},
   "source": [
    "# Embedded ML Lab - Excercise 3 - Pruning\n",
    "\n",
    "In this exercise, we will explore pruning of NNs. The pruning experiments are split in two parts. Firstly, we will explore pruning for compressing the model size. For that, we will drop parameters of the network in an unstructured way. Secondly, we will explore Pruning to speed up NN inference. For that we will use \"structured pruning\" and conv-layer output channels.\n",
    "\n",
    "For this lab, we use a little bit heavier version of the previously used `CifarNet`. The implementation can be found in the `net.py` file. Additionally, there are a couple of utility functions in `utils.py`. For the first part of the lab, we will use `net_acc` to measure the accuracy."
   ]
  },
  {
   "cell_type": "code",
   "execution_count": 1,
   "id": "printable-government",
   "metadata": {},
   "outputs": [
    {
     "name": "stdout",
     "output_type": "stream",
     "text": [
      "Using downloaded and verified file: data/cifar-10-python.tar.gz\n",
      "Extracting data/cifar-10-python.tar.gz to data/\n",
      "Files already downloaded and verified\n"
     ]
    }
   ],
   "source": [
    "import torch\n",
    "torch.rand(1).to('cuda') #initialize cuda context (might take a while)\n",
    "\n",
    "from net import CifarNet\n",
    "import torch\n",
    "from typing import List, Dict, Tuple\n",
    "\n",
    "import torchvision\n",
    "from torchvision.datasets import CIFAR10\n",
    "from torchvision.transforms import transforms\n",
    "\n",
    "tf = transforms.Compose([transforms.ToTensor(),transforms.Normalize((0.5, 0.5, 0.5), (0.5, 0.5, 0.5))])\n",
    "testloader = torch.utils.data.DataLoader(torchvision.datasets.CIFAR10('data/', train=False, download=True, transform=tf), shuffle=False, batch_size=32)\n",
    "trainloader = torch.utils.data.DataLoader(torchvision.datasets.CIFAR10('data/', train=True, download=True, transform=tf), shuffle=False, batch_size=32)"
   ]
  },
  {
   "cell_type": "code",
   "execution_count": 2,
   "id": "registered-encyclopedia",
   "metadata": {},
   "outputs": [
    {
     "name": "stdout",
     "output_type": "stream",
     "text": [
      "CifarNet Accuracy: 85.3%\n"
     ]
    }
   ],
   "source": [
    "import copy\n",
    "\n",
    "net = CifarNet()\n",
    "state_dict = torch.load('state_dict__cifarnet.pt')\n",
    "net.load_state_dict(state_dict)\n",
    "\n",
    "from utils import net_acc, size_on_disk\n",
    "\n",
    "print(f\"CifarNet Accuracy: {net_acc(CifarNet, state_dict, testloader, batches=128, device='cuda')}%\")"
   ]
  },
  {
   "cell_type": "markdown",
   "id": "controversial-bracket",
   "metadata": {},
   "source": [
    "We now explore pruning methods to compress the model size, by setting parameters to zero. We evaluate two methods: Random pruning, and l1-norm pruning.\n",
    "\n",
    "Your Tasks:\n",
    "* Implement the function `random_unstructured_pruning`. This function takes a state_dict as input and returns a state_dict with same elements and dimensions as output. Prune (set to zero) a ratio of `prune_ratio` per convolutional layer (filter). The bias can be left untouched, as well as the FC layer.\n",
    "    * One way to do this to use as mask (e.g., a random torch tensor) where you randomly clip `prune_ratio`to zero and the remainder to one, that you multiply with the convolutional layer's filters.\n",
    "    \n",
    "* Implement the function `l1_unstructured_pruning`. Here, instead of randomly pruning parameters to zero, you are supposed to set the parameters that have the lowest magnitude to zero.\n",
    "    * One way to do something like this is with numpy `percentile` (i.e., check https://numpy.org/doc/stable/reference/generated/numpy.percentile.html)"
   ]
  },
  {
   "cell_type": "code",
   "execution_count": 4,
   "id": "signed-illness",
   "metadata": {},
   "outputs": [],
   "source": [
    "import numpy as np\n",
    "\n",
    "def random_unstructured_pruning(state_dict: Dict, prune_ratio: float) -> Dict:\n",
    "    state_dict = copy.deepcopy(state_dict)\n",
    "    #set values in conv filters to zero according to the prune ratio\n",
    "    # to-be-done-by-student------\n",
    "    for name, param in state_dict.items():\n",
    "        \n",
    "        if 'conv' in name and 'weight' in name:\n",
    "            weight = param.data.cpu().numpy()\n",
    "            mask = np.random.rand(*weight.shape) > prune_ratio\n",
    "            pruned_weight = weight * mask\n",
    "            state_dict[name] = torch.tensor(pruned_weight, dtype=param.dtype).to(param.device)\n",
    "            \n",
    "    #----------------------------\n",
    "    return state_dict\n",
    "\n",
    "def l1_unstructured_pruning(state_dict: Dict, prune_ratio: float) -> Dict:\n",
    "    state_dict = copy.deepcopy(state_dict)\n",
    "    \n",
    "    #set values in conv filters to zero according to the prune ratio\n",
    "    # to-be-done-by-student------\n",
    "    for name, param in state_dict.items():\n",
    "        \n",
    "        if 'conv' in name and 'weight' in name:\n",
    "            weight = param.data.cpu().numpy()\n",
    "            # Calculate the threshold value for pruning\n",
    "            abs_weight = np.abs(weight)\n",
    "            threshold = np.percentile(abs_weight, prune_ratio * 100)\n",
    "            # Prune weights below the threshold\n",
    "            pruned_weight = np.where(abs_weight < threshold, 0, weight)\n",
    "            state_dict[name] = torch.tensor(pruned_weight, dtype=param.dtype).to(param.device)\n",
    "    \n",
    "\n",
    "\n",
    "    #----------------------------\n",
    "    return state_dict"
   ]
  },
  {
   "cell_type": "markdown",
   "id": "nearby-million",
   "metadata": {},
   "source": [
    "The following code plots the differences between random and l1 pruning. The plot is saved on disk with the filename `size_on_disk.png`"
   ]
  },
  {
   "cell_type": "code",
   "execution_count": 5,
   "id": "stock-elevation",
   "metadata": {},
   "outputs": [
    {
     "name": "stderr",
     "output_type": "stream",
     "text": [
      "100%|██████████| 15/15 [01:55<00:00,  7.69s/it]\n",
      "100%|██████████| 15/15 [01:09<00:00,  4.66s/it]\n"
     ]
    },
    {
     "data": {
      "image/png": "[encoded data removed]",
      "text/plain": [
       "<Figure size 432x288 with 1 Axes>"
      ]
     },
     "metadata": {
      "needs_background": "light"
     },
     "output_type": "display_data"
    }
   ],
   "source": [
    "import tqdm\n",
    "from utils import plot\n",
    "ratios = [i/15.0 for i in  range(15)]\n",
    "sd = torch.load('state_dict__cifarnet.pt')\n",
    "accs_random, size_random = [], []\n",
    "for ratio in tqdm.tqdm(ratios):\n",
    "    \n",
    "    # Apply random unstructured pruning \n",
    "    sd_pruned = random_unstructured_pruning(sd, ratio)\n",
    "    \n",
    "    # Evaluate accuracy\n",
    "    accs_random.append(net_acc(CifarNet, sd_pruned, testloader, batches=32, device='cuda'))\n",
    "    \n",
    "    # Evaluate size of network on disk (gzip)\n",
    "    size_random.append(size_on_disk(sd_pruned)[0])\n",
    "    \n",
    "accs_l1, size_l1 = [], []\n",
    "for ratio in tqdm.tqdm(ratios):\n",
    "    # Apply L1 unstructued pruning\n",
    "    sd_pruned = l1_unstructured_pruning(sd, ratio)\n",
    "    accs_l1.append(net_acc(CifarNet, sd_pruned, testloader, batches=32, device='cuda'))\n",
    "    size_l1.append(size_on_disk(sd_pruned)[0])\n",
    "\n",
    "    \n",
    "plot([(size_random, accs_random, 'accuracy_random'),\n",
    "      (size_l1, accs_l1, 'accuracy_l1')],\n",
    "      xlabel='size on disk [relative to max]', save_path='size_on_disk.png')"
   ]
  }
 ],
 "metadata": {
  "kernelspec": {
   "display_name": "Python 3",
   "language": "python",
   "name": "python3"
  },
  "language_info": {
   "codemirror_mode": {
    "name": "ipython",
    "version": 3
   },
   "file_extension": ".py",
   "mimetype": "text/x-python",
   "name": "python",
   "nbconvert_exporter": "python",
   "pygments_lexer": "ipython3",
   "version": "3.6.9"
  }
 },
 "nbformat": 4,
 "nbformat_minor": 5
}
