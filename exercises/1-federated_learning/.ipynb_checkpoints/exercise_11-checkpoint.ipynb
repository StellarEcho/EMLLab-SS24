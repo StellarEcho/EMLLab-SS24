{
 "cells": [
  {
   "cell_type": "markdown",
   "id": "88d20a0a-e183-43bc-8918-24d2f22ef634",
   "metadata": {},
   "source": [
    "## Part 2: Federated Learning\n",
    "\n",
    "You already have trained the model locally on your device with your (limited) data. We want now to extend this to FL.\n",
    "\n",
    "Some helper functions are already implemented in *clientlib.py*:\n",
    "- **wait_for_next_round**(server, last_trained_round=None, join_late_by_max=10):\n",
    "Wait until a new round has started. A round is considered new if it is younger than *join_late_by_max* seconds. The parameter *last_trained_round* may be used to indicate the last round that the client has last participated (i.e., wait for a round != last_trained_round).\n",
    "\n",
    "- **get_model_and_notify_client_started**(server, client_id):\n",
    "Registers the client at the server and downloads the current model and metadata. *metadata['round']* contains the current round number.\n",
    "\n",
    "- **upload_updated_model**(server, client_id, model, model_metadata):\n",
    "Upload an updated model from the server. *model_metadata* must be the same as returned by *get_model_and_notify_client_started*."
   ]
  },
  {
   "cell_type": "markdown",
   "id": "d31527d0-b1a5-4369-aea0-e092609f5a95",
   "metadata": {},
   "source": [
    "FL specifications:\n",
    "- train for **one epoch** with your local dataset in each round. Testing is not required (but may be interesting?)\n",
    "- use the same hyperparameters as in part 1\n",
    "- a round ends after 60s latest. If you upload your model too late, it is rejected by the server. **Do not cheat by changing model_metadata before uploading.**\n",
    "\n",
    "**Your Task:**\n",
    "- Implement the Federated Learning training on the client, for that in a loop do the following things\n",
    "- 1) Wait for the next round to start using the helper function `clientlib.wait_for_next_round()`.\n",
    "- 2) Download the newly averaged model from the server using the helper functions.\n",
    "- 3) Train your model with your data, similar to on-device training.\n",
    "- 4) Upload the model using the helper function\n"
   ]
  },
  {
   "cell_type": "code",
   "execution_count": null,
   "id": "5e98b6e3-c7bd-44bb-ad84-55f41f064c10",
   "metadata": {},
   "outputs": [],
   "source": [
    "TOTAL_CLIENTS = 4  # number of participants in the lab\n",
    "CLIENT_ID = 0  # between 0 and TOTAL_CLIENTS-1"
   ]
  },
  {
   "cell_type": "code",
   "execution_count": null,
   "id": "0d64fc72-8577-4c5f-996e-54f3c9ad9d81",
   "metadata": {},
   "outputs": [],
   "source": [
    "import torch\n",
    "import device_data\n",
    "\n",
    "training_dataset = device_data.get_client_training_data(CLIENT_ID, TOTAL_CLIENTS)\n",
    "train_loader = torch.utils.data.DataLoader(training_dataset, batch_size=16)\n",
    "test_dataset = device_data.get_test_data()\n",
    "test_loader = torch.utils.data.DataLoader(test_dataset, batch_size=16)"
   ]
  },
  {
   "cell_type": "code",
   "execution_count": null,
   "id": "35692a25-7929-4937-8469-11ab40fae52d",
   "metadata": {},
   "outputs": [],
   "source": [
    "import clientlib\n",
    "SERVER = 'federated-learning.in8.itec.kit.edu:80'\n",
    "\n",
    "# this reaches 76% within 10 rounds with 4 clients\n",
    "\n",
    "torch.set_num_threads(1)\n",
    "\n",
    "import time\n",
    "from tqdm import tqdm\n",
    "import sys\n",
    "\n",
    "device = 'cuda'\n",
    "\n",
    "def train(model, optimizer, criterion, trainloader, device='cpu'):\n",
    "    #-to-be-done-by-student-----\n",
    "   \n",
    "    #---------------------------\n",
    "    \n",
    "def test(model, testloader, device='cpu'):\n",
    "    num_correct = 0\n",
    "    num_samples = 0\n",
    "    \n",
    "    #-to-be-done-by-student-----\n",
    "   \n",
    "    #---------------------------\n",
    "    return num_correct/num_samples\n",
    "\n",
    "last_trained_round = None\n",
    "\n",
    "while True:\n",
    "    print(\"Starting round\")\n",
    "    \n",
    "    #-to-be-done-by-student-----\n",
    "\n",
    "    #---------------------------\n",
    "\n",
    "    print(f'downloaded model -> train (round {model_metadata[\"round\"]})')\n",
    "\n",
    "    start = time.time()\n",
    "    #-to-be-done-by-student-----\n",
    "\n",
    "    #---------------------------\n",
    "    end = time.time()\n",
    "    print(f'training took {end-start:.1f}s')\n",
    "\n",
    "    print('upload updated model')\n",
    "    #-to-be-done-by-student-----\n",
    "\n",
    "    #---------------------------\n",
    "\n",
    "    last_trained_round = model_metadata['round']\n",
    "    \n",
    "    #we measure the accuracy after 10 rounds\n",
    "    if model_metadata['round'] == 10:\n",
    "        accuracy = test(model, test_loader, device=device)\n",
    "        print(f'Accuracy: ({accuracy:.2f})')\n",
    "        break"
   ]
  }
 ],
 "metadata": {
  "kernelspec": {
   "display_name": "Python 3",
   "language": "python",
   "name": "python3"
  },
  "language_info": {
   "codemirror_mode": {
    "name": "ipython",
    "version": 3
   },
   "file_extension": ".py",
   "mimetype": "text/x-python",
   "name": "python",
   "nbconvert_exporter": "python",
   "pygments_lexer": "ipython3",
   "version": "3.8.10"
  }
 },
 "nbformat": 4,
 "nbformat_minor": 5
}
